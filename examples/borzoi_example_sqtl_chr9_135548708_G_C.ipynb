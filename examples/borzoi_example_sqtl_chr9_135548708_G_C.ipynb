{
 "cells": [
  {
   "cell_type": "code",
   "execution_count": 1,
   "id": "7dbf2734",
   "metadata": {},
   "outputs": [
    {
     "name": "stderr",
     "output_type": "stream",
     "text": [
      "2023-08-17 13:57:41.534796: I tensorflow/core/platform/cpu_feature_guard.cc:193] This TensorFlow binary is optimized with oneAPI Deep Neural Network Library (oneDNN) to use the following CPU instructions in performance-critical operations:  AVX2 FMA\n",
      "To enable them in other operations, rebuild TensorFlow with the appropriate compiler flags.\n",
      "2023-08-17 13:57:42.401927: W tensorflow/compiler/xla/stream_executor/platform/default/dso_loader.cc:64] Could not load dynamic library 'libnvinfer.so.7'; dlerror: libnvinfer.so.7: cannot open shared object file: No such file or directory\n",
      "2023-08-17 13:57:42.402019: W tensorflow/compiler/xla/stream_executor/platform/default/dso_loader.cc:64] Could not load dynamic library 'libnvinfer_plugin.so.7'; dlerror: libnvinfer_plugin.so.7: cannot open shared object file: No such file or directory\n",
      "2023-08-17 13:57:42.402027: W tensorflow/compiler/tf2tensorrt/utils/py_utils.cc:38] TF-TRT Warning: Cannot dlopen some TensorRT libraries. If you would like to use Nvidia GPU with TensorRT, please make sure the missing libraries mentioned above are installed properly.\n"
     ]
    }
   ],
   "source": [
    "import os\n",
    "import time\n",
    "\n",
    "#os.environ['CUDA_VISIBLE_DEVICES'] = '-1'\n",
    "\n",
    "import h5py\n",
    "import numpy as np\n",
    "import pandas as pd\n",
    "import tensorflow as tf\n",
    "\n",
    "import baskerville\n",
    "from baskerville import seqnn\n",
    "from baskerville import gene as bgene\n",
    "from baskerville import dna\n",
    "\n",
    "import json\n",
    "\n",
    "import pysam\n",
    "\n",
    "import pyfaidx\n",
    "\n",
    "import matplotlib.pyplot as plt\n",
    "import matplotlib.patches as patches\n",
    "\n",
    "from borzoi_helpers import *\n"
   ]
  },
  {
   "cell_type": "code",
   "execution_count": null,
   "id": "a4238bad",
   "metadata": {},
   "outputs": [],
   "source": [
    "#Download model files and other dependencies (skip this cell if already executed once)\n",
    "\n",
    "#Create model file structure\n",
    "!mkdir saved_models\n",
    "!mkdir saved_models/f0\n",
    "!mkdir saved_models/f1\n",
    "!mkdir saved_models/f2\n",
    "!mkdir saved_models/f3\n",
    "\n",
    "#Download model weights\n",
    "!wget https://storage.googleapis.com/seqnn-share/borzoi/f0/model0_best.h5 -O saved_models/f0/model0_best.h5\n",
    "!wget https://storage.googleapis.com/seqnn-share/borzoi/f1/model0_best.h5 -O saved_models/f1/model0_best.h5\n",
    "!wget https://storage.googleapis.com/seqnn-share/borzoi/f2/model0_best.h5 -O saved_models/f2/model0_best.h5\n",
    "!wget https://storage.googleapis.com/seqnn-share/borzoi/f3/model0_best.h5 -O saved_models/f3/model0_best.h5\n",
    "\n",
    "#Download and uncompress annotation files\n",
    "!wget -O - https://storage.googleapis.com/seqnn-share/helper/gencode41_basic_nort.gtf.gz | gunzip -c > gencode41_basic_nort.gtf\n",
    "!wget https://storage.googleapis.com/seqnn-share/helper/gencode41_basic_protein_splice.csv.gz\n",
    "!wget https://storage.googleapis.com/seqnn-share/helper/polyadb_human_v3.csv.gz\n",
    "\n",
    "#Download and index hg38 genome\n",
    "!wget -O - http://hgdownload.cse.ucsc.edu/goldenPath/hg38/bigZips/hg38.fa.gz | gunzip -c > hg38.fa\n",
    "pyfaidx.Faidx('hg38.fa')\n"
   ]
  },
  {
   "cell_type": "code",
   "execution_count": null,
   "id": "afa277c3",
   "metadata": {},
   "outputs": [],
   "source": [
    "#Model configuration\n",
    "\n",
    "params_file = 'params_pred.json'\n",
    "targets_file = 'targets_gtex.txt' #Subset of targets_human.txt\n",
    "\n",
    "seq_len = 524288\n",
    "n_folds = 4       #To use only one model fold, change to 'n_folds = 1'\n",
    "rc = True         #Average across reverse-complement prediction\n",
    "\n",
    "#Read model parameters\n",
    "\n",
    "with open(params_file) as params_open :\n",
    "    \n",
    "    params = json.load(params_open)\n",
    "    \n",
    "    params_model = params['model']\n",
    "    params_train = params['train']\n",
    "\n",
    "#Read targets\n",
    "\n",
    "targets_df = pd.read_csv(targets_file, index_col=0, sep='\\t')\n",
    "target_index = targets_df.index\n",
    "\n",
    "#Create local index of strand_pair (relative to sliced targets)\n",
    "if rc :\n",
    "    strand_pair = targets_df.strand_pair\n",
    "    \n",
    "    target_slice_dict = {ix : i for i, ix in enumerate(target_index.values.tolist())}\n",
    "    slice_pair = np.array([\n",
    "        target_slice_dict[ix] if ix in target_slice_dict else ix for ix in strand_pair.values.tolist()\n",
    "    ], dtype='int32')\n",
    "\n",
    "#Initialize model ensemble\n",
    "\n",
    "models = []\n",
    "for fold_ix in range(n_folds) :\n",
    "    \n",
    "    model_file = \"saved_models/f\" + str(fold_ix) + \"/model0_best.h5\"\n",
    "\n",
    "    seqnn_model = seqnn.SeqNN(params_model)\n",
    "    seqnn_model.restore(model_file, 0)\n",
    "    seqnn_model.build_slice(target_index)\n",
    "    if rc :\n",
    "        seqnn_model.strand_pair.append(slice_pair)\n",
    "    seqnn_model.build_ensemble(rc, '0')\n",
    "    \n",
    "    models.append(seqnn_model)\n"
   ]
  },
  {
   "cell_type": "code",
   "execution_count": 3,
   "id": "505c8f56",
   "metadata": {},
   "outputs": [
    {
     "name": "stdout",
     "output_type": "stream",
     "text": [
      "len(splice_df) = 404837\n"
     ]
    }
   ],
   "source": [
    "#Initialize fasta sequence extractor\n",
    "\n",
    "fasta_open = pysam.Fastafile('hg38.fa')\n",
    "\n",
    "#Load splice site annotation\n",
    "\n",
    "splice_df = pd.read_csv('gencode41_basic_protein_splice.csv.gz', sep='\\t', compression='gzip')\n",
    "\n",
    "print(\"len(splice_df) = \" + str(len(splice_df)))\n"
   ]
  },
  {
   "cell_type": "code",
   "execution_count": 4,
   "id": "2c3584e4",
   "metadata": {},
   "outputs": [
    {
     "name": "stdout",
     "output_type": "stream",
     "text": [
      "testis tracks = [79, 80]\n"
     ]
    }
   ],
   "source": [
    "#Print index of GTEx testis tracks in targets file\n",
    "\n",
    "targets_df['local_index'] = np.arange(len(targets_df))\n",
    "\n",
    "print(\"testis tracks = \" + str(targets_df.loc[targets_df['description'] == 'RNA:testis']['local_index'].tolist()))\n"
   ]
  },
  {
   "cell_type": "code",
   "execution_count": 5,
   "id": "42154bfe",
   "metadata": {},
   "outputs": [
    {
     "name": "stderr",
     "output_type": "stream",
     "text": [
      "2023-08-17 13:38:40.337240: I tensorflow/compiler/xla/stream_executor/cuda/cuda_dnn.cc:428] Loaded cuDNN version 8401\n",
      "2023-08-17 13:38:40.746785: I tensorflow/tsl/platform/default/subprocess.cc:304] Start cannot spawn child process: No such file or directory\n"
     ]
    },
    {
     "name": "stdout",
     "output_type": "stream",
     "text": [
      "-- Counts --\n",
      " - max_y_wt = 46.1919\n",
      " - max_y_mut = 46.4422\n",
      " -- (max_y = 46.4422)\n"
     ]
    },
    {
     "data": {
      "image/png": "[encoded data removed]",
      "text/plain": [
       "<Figure size 1200x200 with 1 Axes>"
      ]
     },
     "metadata": {},
     "output_type": "display_data"
    },
    {
     "name": "stdout",
     "output_type": "stream",
     "text": [
      " - max_y_wt = 601.0324\n",
      " - max_y_mut = 592.4531\n",
      " -- (max_y = 601.0324)\n"
     ]
    },
    {
     "data": {
      "image/png": "[encoded data removed]",
      "text/plain": [
       "<Figure size 1200x200 with 1 Axes>"
      ]
     },
     "metadata": {},
     "output_type": "display_data"
    }
   ],
   "source": [
    "#Predict for chr9_135548708_G_C\n",
    "\n",
    "save_figs = False\n",
    "save_suffix = '_chr9_135548708_G_C'\n",
    "\n",
    "center_pos = 135548708\n",
    "\n",
    "chrom = 'chr9'\n",
    "poses = [135548708]\n",
    "alts = ['C']\n",
    "\n",
    "start = center_pos - seq_len // 2\n",
    "end = center_pos + seq_len // 2\n",
    "\n",
    "sequence_one_hot_wt = process_sequence(fasta_open, chrom, start, end)\n",
    "\n",
    "#Induce mutation(s)\n",
    "sequence_one_hot_mut = np.copy(sequence_one_hot_wt)\n",
    "\n",
    "for pos, alt in zip(poses, alts) :\n",
    "    alt_ix = -1\n",
    "    if alt == 'A' :\n",
    "        alt_ix = 0\n",
    "    elif alt == 'C' :\n",
    "        alt_ix = 1\n",
    "    elif alt == 'G' :\n",
    "        alt_ix = 2\n",
    "    elif alt == 'T' :\n",
    "        alt_ix = 3\n",
    "\n",
    "    sequence_one_hot_mut[pos-start-1] = 0.\n",
    "    sequence_one_hot_mut[pos-start-1, alt_ix] = 1.\n",
    "\n",
    "#Make predictions\n",
    "y_wt = predict_tracks(models, sequence_one_hot_wt)\n",
    "y_mut = predict_tracks(models, sequence_one_hot_mut)\n",
    "\n",
    "#Visualize quantized tracks over SNP\n",
    "\n",
    "plot_window = 4096\n",
    "bin_size = 32\n",
    "pad = 16\n",
    "\n",
    "rescale_tracks = True\n",
    "normalize_counts = False\n",
    "\n",
    "anno_df = splice_df\n",
    "\n",
    "#Tracks\n",
    "track_indices = [\n",
    "    np.arange(0, 89).tolist(),\n",
    "    [79, 80],\n",
    "]\n",
    "\n",
    "track_names = [\n",
    "    'GTEx Coverage (All tissues)',\n",
    "    'GTEx Coverage (Testis)',\n",
    "]\n",
    "\n",
    "track_scales = [\n",
    "    0.01,\n",
    "    0.01,\n",
    "]\n",
    "\n",
    "track_transforms = [\n",
    "    3./4.,\n",
    "    3./4.,\n",
    "]\n",
    "\n",
    "soft_clips = [\n",
    "    384.,\n",
    "    384.,\n",
    "]\n",
    "\n",
    "print(\"-- Counts --\")\n",
    "plot_coverage_track_pair_bins(y_wt, y_mut, chrom, start, center_pos, poses, track_indices, track_names, track_scales, track_transforms, soft_clips, plot_window=plot_window, normalize_window=8*plot_window, bin_size=bin_size, pad=pad, rescale_tracks=rescale_tracks, normalize_counts=normalize_counts, save_figs=save_figs, save_suffix=save_suffix, anno_df=anno_df)\n"
   ]
  },
  {
   "cell_type": "code",
   "execution_count": 6,
   "id": "f3bb0e25",
   "metadata": {},
   "outputs": [
    {
     "name": "stdout",
     "output_type": "stream",
     "text": [
      "mut_bin = 8176\n",
      "\n",
      "splice_ix = 0: bin = 8115 (8113 - 8118)\n",
      "splice_ix = 1: bin = 8119 (8117 - 8122)\n",
      "splice_ix = 2: bin = 8128 (8126 - 8131)\n",
      "splice_ix = 3: bin = 8130 (8128 - 8133)\n",
      "splice_ix = 4: bin = 8149 (8147 - 8152)\n",
      "splice_ix = 5: bin = 8153 (8151 - 8156)\n",
      "splice_ix = 6: bin = 8173 (8171 - 8176)\n",
      "splice_ix = 7: bin = 8175 (8173 - 8178)\n",
      "splice_ix = 8: bin = 8179 (8177 - 8182)\n",
      "splice_ix = 9: bin = 8194 (8192 - 8197)\n",
      "splice_ix = 10: bin = 8195 (8193 - 8198)\n",
      "splice_ix = 11: bin = 8195 (8193 - 8198)\n",
      "splice_ix = 12: bin = 8202 (8200 - 8205)\n",
      "splice_ix = 13: bin = 8211 (8209 - 8214)\n",
      "splice_ix = 14: bin = 8211 (8209 - 8214)\n"
     ]
    }
   ],
   "source": [
    "#Print splice site bin positions and other info\n",
    "\n",
    "plot_start = center_pos - plot_window // 2\n",
    "plot_end = center_pos + plot_window // 2\n",
    "\n",
    "plot_start_bin = (plot_start - start) // bin_size - pad\n",
    "plot_end_bin = (plot_end - start) // bin_size - pad\n",
    "\n",
    "mut_bin = (poses[0] - start) // bin_size - pad\n",
    "\n",
    "#Get splice site positions\n",
    "splice_poses = splice_df.query(\"chrom == '\" + chrom + \"' and position_hg38 >= \" + str(plot_start) + \" and position_hg38 < \" + str(plot_end))['position_hg38'].unique().tolist()\n",
    "\n",
    "print(\"mut_bin = \" + str(mut_bin))\n",
    "print(\"\")\n",
    "\n",
    "#Print splice site positions\n",
    "for splice_ix, splice_pos in enumerate(splice_poses) :\n",
    "    \n",
    "    splice_bin = int((splice_pos - start) // 32) - 16\n",
    "    \n",
    "    bin_end = splice_bin + 3\n",
    "    bin_start = bin_end - 5\n",
    "    \n",
    "    print(\"splice_ix = \" + str(splice_ix) + \": bin = \" + str(splice_bin) + \" (\" + str(bin_start) + \" - \" + str(bin_end) + \")\")\n"
   ]
  },
  {
   "cell_type": "code",
   "execution_count": 7,
   "id": "b9b9f717",
   "metadata": {},
   "outputs": [],
   "source": [
    "#Choose splice sites to use for attributions\n",
    "\n",
    "exon_1_start_bin = 8173\n",
    "exon_1_end_bin = 8176\n",
    "\n",
    "exon_2_start_bin = 8180\n",
    "exon_2_end_bin = 8183\n"
   ]
  },
  {
   "cell_type": "code",
   "execution_count": null,
   "id": "41016527",
   "metadata": {},
   "outputs": [],
   "source": [
    "#Get contribution scores (gradient) for testis GTEX tracks\n",
    "\n",
    "_, _, [pred_grad_wt, pred_grad_mut] = get_prediction_gradient_w_rc(\n",
    "    models,\n",
    "    [sequence_one_hot_wt, sequence_one_hot_mut],\n",
    "    exon_2_start_bin,\n",
    "    exon_2_end_bin,\n",
    "    exon_1_start_bin,\n",
    "    exon_1_end_bin,\n",
    "    target_index[[79, 80]].tolist(),\n",
    "    0.01,\n",
    "    3./4.,\n",
    "    clip_soft=384.,\n",
    "    use_mean=False,\n",
    "    use_ratio=True,\n",
    "    use_logodds=False,\n",
    "    subtract_avg=True,\n",
    "    fold_index=[0, 1, 2, 3],\n",
    ")\n"
   ]
  },
  {
   "cell_type": "code",
   "execution_count": 15,
   "id": "414eb8be",
   "metadata": {},
   "outputs": [
    {
     "name": "stdout",
     "output_type": "stream",
     "text": [
      "--- WT ---\n"
     ]
    },
    {
     "data": {
      "image/png": "[encoded data removed]",
      "text/plain": [
       "<Figure size 800x100 with 1 Axes>"
      ]
     },
     "metadata": {},
     "output_type": "display_data"
    },
    {
     "name": "stdout",
     "output_type": "stream",
     "text": [
      "--- Mut ---\n"
     ]
    },
    {
     "data": {
      "image/png": "[encoded data removed]",
      "text/plain": [
       "<Figure size 800x100 with 1 Axes>"
      ]
     },
     "metadata": {},
     "output_type": "display_data"
    }
   ],
   "source": [
    "#Visualize contribution scores\n",
    "\n",
    "visualize_input_gradient_pair(\n",
    "    pred_grad_wt,\n",
    "    pred_grad_mut,\n",
    "    plot_start=(poses[0] - start) - 64,\n",
    "    plot_end=(poses[0] - start) + 64,\n",
    "    save_figs=True,\n",
    "    fig_name=chrom + '_' + str(poses[0]) + '_prediction_grad_gtex_snp_4_folds_gtex_cov_testis_undo_clip'\n",
    ")\n"
   ]
  },
  {
   "cell_type": "code",
   "execution_count": null,
   "id": "7f2bd42d",
   "metadata": {},
   "outputs": [],
   "source": [
    "#Get contribution scores (ISM) for testis GTEX tracks\n",
    "\n",
    "[pred_ism_wt, pred_ism_mut] = get_ism(\n",
    "    models,\n",
    "    [sequence_one_hot_wt, sequence_one_hot_mut],\n",
    "    (poses[0] - start) - 64,\n",
    "    (poses[0] - start) + 64,\n",
    "    exon_2_start_bin,\n",
    "    exon_2_end_bin,\n",
    "    exon_1_start_bin,\n",
    "    exon_1_end_bin,\n",
    "    [79, 80],\n",
    "    0.01,\n",
    "    3./4.,\n",
    "    384.,\n",
    "    use_mean=False,\n",
    "    use_ratio=True,\n",
    "    use_logodds=False\n",
    ")\n"
   ]
  },
  {
   "cell_type": "code",
   "execution_count": 17,
   "id": "3bd730e9",
   "metadata": {},
   "outputs": [
    {
     "name": "stdout",
     "output_type": "stream",
     "text": [
      "--- WT ---\n"
     ]
    },
    {
     "data": {
      "image/png": "[encoded data removed]",
      "text/plain": [
       "<Figure size 800x100 with 1 Axes>"
      ]
     },
     "metadata": {},
     "output_type": "display_data"
    },
    {
     "name": "stdout",
     "output_type": "stream",
     "text": [
      "--- Mut ---\n"
     ]
    },
    {
     "data": {
      "image/png": "[encoded data removed]",
      "text/plain": [
       "<Figure size 800x100 with 1 Axes>"
      ]
     },
     "metadata": {},
     "output_type": "display_data"
    }
   ],
   "source": [
    "#Visualize contribution scores\n",
    "\n",
    "visualize_input_gradient_pair(\n",
    "    pred_ism_wt,\n",
    "    pred_ism_mut,\n",
    "    plot_start=(poses[0] - start) - 64,\n",
    "    plot_end=(poses[0] - start) + 64,\n",
    "    save_figs=True,\n",
    "    fig_name=chrom + '_' + str(poses[0]) + '_prediction_ism_gtex_snp_4_folds_gtex_cov_testis_undo_clip'\n",
    ")\n"
   ]
  },
  {
   "cell_type": "code",
   "execution_count": null,
   "id": "0132c170",
   "metadata": {},
   "outputs": [],
   "source": [
    "#Get contribution scores (ISM shuffle) for testis GTEX tracks\n",
    "\n",
    "[pred_ism_wt, pred_ism_mut] = get_ism_shuffle(\n",
    "    models,\n",
    "    [sequence_one_hot_wt, sequence_one_hot_mut],\n",
    "    (poses[0] - start) - 64,\n",
    "    (poses[0] - start) + 64,\n",
    "    exon_2_start_bin,\n",
    "    exon_2_end_bin,\n",
    "    exon_1_start_bin,\n",
    "    exon_1_end_bin,\n",
    "    [79, 80],\n",
    "    0.01,\n",
    "    3./4.,\n",
    "    384.,\n",
    "    window_size=5,\n",
    "    n_samples=24,\n",
    "    use_mean=False,\n",
    "    use_ratio=True,\n",
    "    use_logodds=False\n",
    ")\n"
   ]
  },
  {
   "cell_type": "code",
   "execution_count": 19,
   "id": "34d5e490",
   "metadata": {},
   "outputs": [
    {
     "name": "stdout",
     "output_type": "stream",
     "text": [
      "--- WT ---\n"
     ]
    },
    {
     "data": {
      "image/png": "[encoded data removed]",
      "text/plain": [
       "<Figure size 800x100 with 1 Axes>"
      ]
     },
     "metadata": {},
     "output_type": "display_data"
    },
    {
     "name": "stdout",
     "output_type": "stream",
     "text": [
      "--- Mut ---\n"
     ]
    },
    {
     "data": {
      "image/png": "[encoded data removed]",
      "text/plain": [
       "<Figure size 800x100 with 1 Axes>"
      ]
     },
     "metadata": {},
     "output_type": "display_data"
    }
   ],
   "source": [
    "#Visualize contribution scores\n",
    "\n",
    "visualize_input_gradient_pair(\n",
    "    pred_ism_wt,\n",
    "    pred_ism_mut,\n",
    "    plot_start=(poses[0] - start) - 64,\n",
    "    plot_end=(poses[0] - start) + 64,\n",
    "    save_figs=True,\n",
    "    fig_name=chrom + '_' + str(poses[0]) + '_prediction_ism_shuffle_gtex_snp_4_folds_gtex_cov_testis_undo_clip'\n",
    ")\n"
   ]
  },
  {
   "cell_type": "code",
   "execution_count": 7,
   "id": "5a067915",
   "metadata": {},
   "outputs": [],
   "source": [
    "#Load samples with reference- and alternate alleles respectively\n",
    "\n",
    "#These files are protected by dbGaP - email to request access\n",
    "\n",
    "cov_files_wt = pd.read_csv(\"gtex_ref_chr9_135548708_G_C.txt\", sep='\\t', names=['file'])['file'].values.tolist()\n",
    "cov_files_mut = pd.read_csv(\"gtex_alt_chr9_135548708_G_C.txt\", sep='\\t', names=['file'])['file'].values.tolist()\n"
   ]
  },
  {
   "cell_type": "code",
   "execution_count": 8,
   "id": "6d9948c8",
   "metadata": {},
   "outputs": [
    {
     "name": "stdout",
     "output_type": "stream",
     "text": [
      "gtex_targets_wt.shape = (16352, 5)\n",
      "gtex_targets_mut.shape = (16352, 5)\n",
      "-- Counts --\n",
      " - max_y_wt = 986.4816\n",
      " - max_y_mut = 1083.784\n",
      " -- (max_y = 1083.784)\n"
     ]
    },
    {
     "data": {
      "image/png": "[encoded data removed]",
      "text/plain": [
       "<Figure size 1200x200 with 1 Axes>"
      ]
     },
     "metadata": {},
     "output_type": "display_data"
    }
   ],
   "source": [
    "#Read measured coverage tracks for chr9_135548708_G_C\n",
    "\n",
    "save_figs = False\n",
    "save_suffix = '_chr9_135548708_G_C_meas_5_subjects'\n",
    "\n",
    "center_pos = 135548708\n",
    "\n",
    "chrom = 'chr9'\n",
    "poses = [135548708]\n",
    "alts = ['C']\n",
    "\n",
    "start = center_pos - seq_len // 2\n",
    "end = center_pos + seq_len // 2\n",
    "\n",
    "blacklist_bed = \"/home/drk/common/data/genomes/hg38/blacklist/blacklist_hg38_all.bed\"\n",
    "\n",
    "read_coverage_func_wt, close_coverage_func_wt = get_coverage_reader(cov_files_wt, 16384, 16, blacklist_bed)\n",
    "read_coverage_func_mut, close_coverage_func_mut = get_coverage_reader(cov_files_mut, 16384, 16, blacklist_bed)\n",
    "\n",
    "gtex_targets_wt = read_coverage_func_wt(chrom, start, end, clip_soft=384., clip=768., scale=0.01)\n",
    "gtex_targets_mut = read_coverage_func_mut(chrom, start, end, clip_soft=384., clip=768., scale=0.01)\n",
    "\n",
    "close_coverage_func_wt()\n",
    "close_coverage_func_mut()\n",
    "\n",
    "print(\"gtex_targets_wt.shape = \" + str(gtex_targets_wt.shape))\n",
    "print(\"gtex_targets_mut.shape = \" + str(gtex_targets_mut.shape))\n",
    "\n",
    "plot_window = 4096\n",
    "bin_size = 32\n",
    "pad = 16\n",
    "\n",
    "anno_df = splice_df\n",
    "\n",
    "rescale_tracks = True\n",
    "normalize_counts = True\n",
    "\n",
    "#Tracks\n",
    "track_indices = [\n",
    "    [0, 1, 2, 3, 4],\n",
    "]\n",
    "\n",
    "track_names = [\n",
    "    'GTEx Testis measured (5 subjects)',\n",
    "]\n",
    "\n",
    "track_scales = [\n",
    "    0.01,\n",
    "]\n",
    "\n",
    "track_transforms = [\n",
    "    3./4.,\n",
    "]\n",
    "\n",
    "soft_clips = [\n",
    "    384.,\n",
    "]\n",
    "\n",
    "print(\"-- Counts --\")\n",
    "plot_coverage_track_pair_bins(gtex_targets_wt[None, None, ...], gtex_targets_mut[None, None, ...], chrom, start, center_pos, poses, track_indices, track_names, track_scales, track_transforms, soft_clips, plot_window=plot_window, normalize_window=8*plot_window, bin_size=bin_size, pad=pad, rescale_tracks=rescale_tracks, normalize_counts=normalize_counts, save_figs=save_figs, save_suffix=save_suffix, anno_df=anno_df)\n"
   ]
  },
  {
   "cell_type": "code",
   "execution_count": null,
   "id": "7efea964",
   "metadata": {},
   "outputs": [],
   "source": []
  }
 ],
 "metadata": {
  "kernelspec": {
   "display_name": "Python 3 (ipykernel)",
   "language": "python",
   "name": "python3"
  },
  "language_info": {
   "codemirror_mode": {
    "name": "ipython",
    "version": 3
   },
   "file_extension": ".py",
   "mimetype": "text/x-python",
   "name": "python",
   "nbconvert_exporter": "python",
   "pygments_lexer": "ipython3",
   "version": "3.9.17"
  }
 },
 "nbformat": 4,
 "nbformat_minor": 5
}
