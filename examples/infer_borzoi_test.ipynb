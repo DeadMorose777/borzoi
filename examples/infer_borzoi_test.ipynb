{
 "cells": [
  {
   "cell_type": "code",
   "execution_count": 1,
   "id": "b6a934b7-164e-4fc7-bfa7-78b01d71790b",
   "metadata": {},
   "outputs": [
    {
     "name": "stderr",
     "output_type": "stream",
     "text": [
      "2025-02-19 02:29:03.525097: I tensorflow/core/util/port.cc:111] oneDNN custom operations are on. You may see slightly different numerical results due to floating-point round-off errors from different computation orders. To turn them off, set the environment variable `TF_ENABLE_ONEDNN_OPTS=0`.\n",
      "2025-02-19 02:29:03.578381: E tensorflow/compiler/xla/stream_executor/cuda/cuda_dnn.cc:9342] Unable to register cuDNN factory: Attempting to register factory for plugin cuDNN when one has already been registered\n",
      "2025-02-19 02:29:03.578441: E tensorflow/compiler/xla/stream_executor/cuda/cuda_fft.cc:609] Unable to register cuFFT factory: Attempting to register factory for plugin cuFFT when one has already been registered\n",
      "2025-02-19 02:29:03.578507: E tensorflow/compiler/xla/stream_executor/cuda/cuda_blas.cc:1518] Unable to register cuBLAS factory: Attempting to register factory for plugin cuBLAS when one has already been registered\n",
      "2025-02-19 02:29:03.594180: I tensorflow/core/platform/cpu_feature_guard.cc:182] This TensorFlow binary is optimized to use available CPU instructions in performance-critical operations.\n",
      "To enable the following instructions: AVX2 AVX512F AVX512_VNNI FMA, in other operations, rebuild TensorFlow with the appropriate compiler flags.\n",
      "2025-02-19 02:29:05.066879: W tensorflow/compiler/tf2tensorrt/utils/py_utils.cc:38] TF-TRT Warning: Could not find TensorRT\n"
     ]
    }
   ],
   "source": [
    "import json\n",
    "import os\n",
    "import time\n",
    "import warnings\n",
    "import h5py\n",
    "import matplotlib.pyplot as plt\n",
    "import matplotlib.patches as patches\n",
    "import numpy as np\n",
    "import pandas as pd\n",
    "import pysam\n",
    "import pyfaidx\n",
    "import tensorflow as tf\n",
    "from baskerville import seqnn\n",
    "from baskerville import gene as bgene\n",
    "from baskerville import dna\n",
    "from borzoi_helpers import *\n",
    "from sklearn.preprocessing import minmax_scale\n",
    "\n",
    "# Отключаем лишние предупреждения\n",
    "tf.compat.v1.logging.set_verbosity(tf.compat.v1.logging.ERROR)\n"
   ]
  },
  {
   "cell_type": "code",
   "execution_count": 33,
   "id": "7212bd2a-84bd-496c-8837-1712fe48a119",
   "metadata": {},
   "outputs": [],
   "source": [
    "# Пути к файлам\n",
    "work_path = '/mnt/10tb/home/patsukevichan/borZoi/borzoi'  # путь к вашей рабочей папке\n",
    "fasta_open = pysam.Fastafile('hg38/assembly/ucsc/hg38.fa')\n",
    "\n",
    "\n",
    "# Указание на ген ACTRT2 (используем координаты наизусть для примера)\n",
    "search_gene = 'ACTRT2'\n",
    "chrom = 'chr1'\n",
    "\n",
    "# Координаты гена ACTRT2 (примерные для hg38)\n",
    "start, end = 3_020_000, 3_030_000  # Начало и конец для ACTRT2\n",
    "\n",
    "# Генерация one-hot последовательности\n",
    "sequence_one_hot_wt = process_sequence(fasta_open, chrom, start, end)\n",
    "\n"
   ]
  },
  {
   "cell_type": "code",
   "execution_count": 4,
   "id": "5b784e1a-4e98-4945-bda5-51558e956434",
   "metadata": {},
   "outputs": [
    {
     "name": "stderr",
     "output_type": "stream",
     "text": [
      "2025-02-19 02:29:09.355161: I tensorflow/core/common_runtime/gpu/gpu_device.cc:1886] Created device /job:localhost/replica:0/task:0/device:GPU:0 with 23390 MB memory:  -> device: 0, name: Tesla V100-PCIE-32GB, pci bus id: 0000:21:01.0, compute capability: 7.0\n",
      "2025-02-19 02:29:09.355827: I tensorflow/core/common_runtime/gpu/gpu_device.cc:1886] Created device /job:localhost/replica:0/task:0/device:GPU:1 with 30965 MB memory:  -> device: 1, name: Tesla V100-PCIE-32GB, pci bus id: 0000:21:02.0, compute capability: 7.0\n"
     ]
    }
   ],
   "source": [
    "# Параметры модели и пути к файлам\n",
    "params_file = f'{work_path}/examples/params_pred.json'  # Путь к файлу параметров модели\n",
    "targets_file = f'{work_path}/examples/targets_gtex.txt'  # Путь к целям модели\n",
    "seq_len = 524288  # Размер окна для предсказания\n",
    "n_reps = 1  # Используем только одну реплику модели\n",
    "rc = True  # Среднее по реверс-комплементарным предсказаниям\n",
    "\n",
    "# Чтение параметров модели\n",
    "with open(params_file) as params_open:\n",
    "    params = json.load(params_open)\n",
    "    params_model = params['model']\n",
    "    params_train = params['train']\n",
    "\n",
    "# Чтение targets\n",
    "targets_df = pd.read_csv(targets_file, index_col=0, sep='\\t')\n",
    "target_index = targets_df.index\n",
    "\n",
    "# Инициализация модели\n",
    "models = []\n",
    "for rep_ix in range(n_reps):\n",
    "    model_file = f\"{work_path}/examples/saved_models/f3c{rep_ix}/train/model0_best.h5\"  # Путь к файлу модели\n",
    "    seqnn_model = seqnn.SeqNN(params_model)\n",
    "    seqnn_model.restore(model_file, 0)\n",
    "    seqnn_model.build_slice(target_index)\n",
    "    seqnn_model.build_ensemble(rc, [0])\n",
    "    models.append(seqnn_model)\n",
    "\n"
   ]
  },
  {
   "cell_type": "code",
   "execution_count": 26,
   "id": "0e78943d-7442-4481-8b4e-c91bd32af566",
   "metadata": {},
   "outputs": [],
   "source": [
    "def infer_and_save_model(chrom, start, end, models, output_dir):\n",
    "    \"\"\"\n",
    "    Предсказание для указанного участка (gene)\n",
    "    и запись результата в файл bedGraph.\n",
    "    \"\"\"\n",
    "    seq_plus = process_sequence(fasta_open, chrom, start, end)\n",
    "    if seq_plus is None or seq_plus.shape[0] == 0:\n",
    "        print(\"Ошибка в получении последовательности!\")\n",
    "        return\n",
    "\n",
    "    # 1) Предсказания для + цепи\n",
    "    y_plus = predict_tracks(models, seq_plus)  # форма [1, 1, L_out, C]\n",
    "    y_plus = y_plus[0, , :, :]               # [L_out, C]\n",
    "\n",
    "    # 2) Предсказания для - цепи (reverse complement)\n",
    "    seq_minus = reverse_complement_onehot(seq_plus)\n",
    "    y_minus = predict_tracks(models, seq_minus)\n",
    "    y_minus = y_minus[0, 0, :, :]\n",
    "\n",
    "    # --- ВАЖНО: Внедряем «undo_transform» ---\n",
    "    #  Допустим, хотим «стандартное» поведение old=TRUE (как в исходном).\n",
    "    #  И возьмём scale=0.01, clip_soft=384., track_transform=0.75\n",
    "    y_plus_undo = undo_transform(y_plus, \n",
    "                                 track_scale=0.01,\n",
    "                                 track_transform=0.75,\n",
    "                                 clip_soft=384.,\n",
    "                                 untransform_old=True)\n",
    "    y_minus_undo = undo_transform(y_minus,\n",
    "                                  track_scale=0.01,\n",
    "                                  track_transform=0.75,\n",
    "                                  clip_soft=384.,\n",
    "                                  untransform_old=True)\n",
    "\n",
    "    # 3) Теперь пишем в bedGraph уже распакованные y_plus_undo / y_minus_undo\n",
    "    output_file_plus = os.path.join(output_dir, f\"ACTRT2_{chrom}_st+.bedGraph\")\n",
    "    output_file_minus = os.path.join(output_dir, f\"ACTRT2_{chrom}_st-.bedGraph\")\n",
    "\n",
    "    write_bedgraph_output(y_plus_undo, chrom, start, end, output_file_plus)\n",
    "    write_bedgraph_output(y_minus_undo, chrom, start, end, output_file_minus)\n"
   ]
  },
  {
   "cell_type": "code",
   "execution_count": 31,
   "id": "e9063237-4227-45df-866c-c0bfdceda029",
   "metadata": {},
   "outputs": [],
   "source": [
    "def infer_and_save_model_mean(chrom, start, end, models, output_dir):\n",
    "    \"\"\"\n",
    "    Предсказание для указанного участка,\n",
    "    усреднение по всем каналам (axis=1),\n",
    "    и запись результата в один bedGraph.\n",
    "    \"\"\"\n",
    "    # Извлекаем исходную последовательность\n",
    "    seq_plus = process_sequence(fasta_open, chrom, start, end)\n",
    "    if seq_plus is None or seq_plus.shape[0] == 0:\n",
    "        print(\"Ошибка в получении последовательности!\")\n",
    "        return\n",
    "\n",
    "    # Предсказания для + цепи\n",
    "    y_plus = predict_tracks(models, seq_plus)  # ожидаем [1, L_out, 1, C]\n",
    "    y_plus = y_plus[0, :, 0, :]               # (L_out, C)\n",
    "\n",
    "    # Реверс-комплемент\n",
    "    seq_minus = reverse_complement_onehot(seq_plus)\n",
    "    y_minus = predict_tracks(models, seq_minus)\n",
    "    y_minus = y_minus[0, :, 0, :]             # (L_out, C)\n",
    "\n",
    "    # --- При необходимости \"разжимаем\" ---\n",
    "    # Например, если у вас есть функция undo_transform(...)\n",
    "    # y_plus_undo  = undo_transform(y_plus, ...)\n",
    "    # y_minus_undo = undo_transform(y_minus, ...)\n",
    "    # Но если не нужно, то работаем сразу с y_plus, y_minus.\n",
    "\n",
    "    # УСРЕДНЯЕМ по оси каналов => получаем (L_out,)\n",
    "    y_plus_mean = y_plus.mean(axis=1)\n",
    "    y_minus_mean = y_minus.mean(axis=1)\n",
    "\n",
    "    # Пишем в bedGraph\n",
    "    output_file_plus = os.path.join(output_dir, f\"ACTRT2_{chrom}_plus_mean.bedGraph\")\n",
    "    output_file_minus = os.path.join(output_dir, f\"ACTRT2_{chrom}_minus_mean.bedGraph\")\n",
    "\n",
    "    write_bedgraph_output(y_plus_mean, chrom, start, end, output_file_plus, stride=32)\n",
    "    write_bedgraph_output(y_minus_mean, chrom, start, end, output_file_minus, stride=32)\n",
    "\n",
    "    print(\"Усреднённый предикшен успешно сохранён в bedGraph.\")\n"
   ]
  },
  {
   "cell_type": "code",
   "execution_count": 16,
   "id": "f2448dbe-9112-49ff-8952-6893ceed1173",
   "metadata": {},
   "outputs": [
    {
     "name": "stdout",
     "output_type": "stream",
     "text": [
      "Исходная последовательность (в символах): ATGC\n",
      "Реверс-комплементарная последовательность (в символах): GCAT\n"
     ]
    }
   ],
   "source": [
    "\n",
    "def reverse_complement_onehot(seq_onehot):\n",
    "    \"\"\"Преобразует one-hot последовательность (L,4) в её реверс-комплемент.\n",
    "    Предполагается, что:\n",
    "      индекс 0 = A, 1 = T, 2 = G, 3 = C.\n",
    "    Результат: A→T, T→A, G→C, C→G.\n",
    "    \"\"\"\n",
    "    rev = np.flip(seq_onehot, axis=0)\n",
    "    revcomp = rev[:, [1, 0, 3, 2]]\n",
    "    return revcomp\n",
    "\n",
    "\n",
    "# Исходная последовательность: ATGC\n",
    "seq = np.array([[1, 0, 0, 0],  # A\n",
    "                [0, 1, 0, 0],  # T\n",
    "                [0, 0, 1, 0],  # G\n",
    "                [0, 0, 0, 1]]) # C\n",
    "\n",
    "\n",
    "rev_seq = reverse_complement_onehot(seq)\n",
    "\n",
    "# Функция для перевода one-hot в строку (при условии, что 0=A,1=T,2=G,3=C)\n",
    "bases = ['A', 'T', 'G', 'C']\n",
    "def onehot_to_seq(onehot):\n",
    "    return ''.join([bases[np.argmax(row)] for row in onehot])\n",
    "\n",
    "print(\"Исходная последовательность (в символах):\", onehot_to_seq(seq))\n",
    "print(\"Реверс-комплементарная последовательность (в символах):\", onehot_to_seq(rev_seq))\n",
    "\n"
   ]
  },
  {
   "cell_type": "code",
   "execution_count": 29,
   "id": "39db5010-23f7-4243-ac5e-95411eb916e7",
   "metadata": {},
   "outputs": [],
   "source": [
    "def write_bedgraph_output(predictions, chrom, start, end, output_file):\n",
    "    \"\"\"\n",
    "    Запись предсказаний модели в файл BedGraph.\n",
    "    \"\"\"\n",
    "    print(f\"Количество предиктов {len(predictions)}\")\n",
    "\n",
    "    with open(output_file, 'w') as f:\n",
    "        for i, val in enumerate(predictions):\n",
    "            pos_start = start + i * 32  # сдвиг с шагом stride (32)\n",
    "            pos_end = pos_start + 32  # шаг размерности предсказания\n",
    "            if pos_end > end:\n",
    "                pos_end = end\n",
    "            if pos_end <= pos_start:\n",
    "                break\n",
    "            f.write(f\"{chrom}\\t{pos_start}\\t{pos_end}\\t{float(val[0])}\\n\")  # Убедимся, что val скаляр\n",
    "    print(f\"Файл {output_file} сохранен.\")\n"
   ]
  },
  {
   "cell_type": "code",
   "execution_count": 30,
   "id": "7ac36aa6-1979-4ceb-aaf0-e09bc89eb513",
   "metadata": {},
   "outputs": [
    {
     "name": "stdout",
     "output_type": "stream",
     "text": [
      "Start inference for ACTRT2 gene...\n"
     ]
    },
    {
     "ename": "TypeError",
     "evalue": "only size-1 arrays can be converted to Python scalars",
     "output_type": "error",
     "traceback": [
      "\u001b[0;31m---------------------------------------------------------------------------\u001b[0m",
      "\u001b[0;31mTypeError\u001b[0m                                 Traceback (most recent call last)",
      "Cell \u001b[0;32mIn[30], line 7\u001b[0m\n\u001b[1;32m      5\u001b[0m \u001b[38;5;66;03m# Запуск инференса для гена ACTRT2\u001b[39;00m\n\u001b[1;32m      6\u001b[0m \u001b[38;5;28mprint\u001b[39m(\u001b[38;5;124m\"\u001b[39m\u001b[38;5;124mStart inference for ACTRT2 gene...\u001b[39m\u001b[38;5;124m\"\u001b[39m)\n\u001b[0;32m----> 7\u001b[0m \u001b[43minfer_and_save_model\u001b[49m\u001b[43m(\u001b[49m\u001b[43mchrom\u001b[49m\u001b[43m,\u001b[49m\u001b[43m \u001b[49m\u001b[43mstart\u001b[49m\u001b[43m,\u001b[49m\u001b[43m \u001b[49m\u001b[43mend\u001b[49m\u001b[43m,\u001b[49m\u001b[43m \u001b[49m\u001b[43mmodels\u001b[49m\u001b[43m,\u001b[49m\u001b[43m \u001b[49m\u001b[43moutput_dir\u001b[49m\u001b[43m)\u001b[49m\n\u001b[1;32m      8\u001b[0m \u001b[38;5;28mprint\u001b[39m(\u001b[38;5;124m\"\u001b[39m\u001b[38;5;124mDone.\u001b[39m\u001b[38;5;124m\"\u001b[39m)\n",
      "Cell \u001b[0;32mIn[26], line 38\u001b[0m, in \u001b[0;36minfer_and_save_model\u001b[0;34m(chrom, start, end, models, output_dir)\u001b[0m\n\u001b[1;32m     35\u001b[0m output_file_plus \u001b[38;5;241m=\u001b[39m os\u001b[38;5;241m.\u001b[39mpath\u001b[38;5;241m.\u001b[39mjoin(output_dir, \u001b[38;5;124mf\u001b[39m\u001b[38;5;124m\"\u001b[39m\u001b[38;5;124mACTRT2_\u001b[39m\u001b[38;5;132;01m{\u001b[39;00mchrom\u001b[38;5;132;01m}\u001b[39;00m\u001b[38;5;124m_st+.bedGraph\u001b[39m\u001b[38;5;124m\"\u001b[39m)\n\u001b[1;32m     36\u001b[0m output_file_minus \u001b[38;5;241m=\u001b[39m os\u001b[38;5;241m.\u001b[39mpath\u001b[38;5;241m.\u001b[39mjoin(output_dir, \u001b[38;5;124mf\u001b[39m\u001b[38;5;124m\"\u001b[39m\u001b[38;5;124mACTRT2_\u001b[39m\u001b[38;5;132;01m{\u001b[39;00mchrom\u001b[38;5;132;01m}\u001b[39;00m\u001b[38;5;124m_st-.bedGraph\u001b[39m\u001b[38;5;124m\"\u001b[39m)\n\u001b[0;32m---> 38\u001b[0m \u001b[43mwrite_bedgraph_output\u001b[49m\u001b[43m(\u001b[49m\u001b[43my_plus_undo\u001b[49m\u001b[43m,\u001b[49m\u001b[43m \u001b[49m\u001b[43mchrom\u001b[49m\u001b[43m,\u001b[49m\u001b[43m \u001b[49m\u001b[43mstart\u001b[49m\u001b[43m,\u001b[49m\u001b[43m \u001b[49m\u001b[43mend\u001b[49m\u001b[43m,\u001b[49m\u001b[43m \u001b[49m\u001b[43moutput_file_plus\u001b[49m\u001b[43m)\u001b[49m\n\u001b[1;32m     39\u001b[0m write_bedgraph_output(y_minus_undo, chrom, start, end, output_file_minus)\n",
      "Cell \u001b[0;32mIn[29], line 14\u001b[0m, in \u001b[0;36mwrite_bedgraph_output\u001b[0;34m(predictions_1d, chrom, start, end, output_file, stride)\u001b[0m\n\u001b[1;32m     12\u001b[0m         \u001b[38;5;28;01mif\u001b[39;00m pos_end \u001b[38;5;241m<\u001b[39m\u001b[38;5;241m=\u001b[39m pos_start:\n\u001b[1;32m     13\u001b[0m             \u001b[38;5;28;01mbreak\u001b[39;00m\n\u001b[0;32m---> 14\u001b[0m         f\u001b[38;5;241m.\u001b[39mwrite(\u001b[38;5;124mf\u001b[39m\u001b[38;5;124m\"\u001b[39m\u001b[38;5;132;01m{\u001b[39;00mchrom\u001b[38;5;132;01m}\u001b[39;00m\u001b[38;5;130;01m\\t\u001b[39;00m\u001b[38;5;132;01m{\u001b[39;00mpos_start\u001b[38;5;132;01m}\u001b[39;00m\u001b[38;5;130;01m\\t\u001b[39;00m\u001b[38;5;132;01m{\u001b[39;00mpos_end\u001b[38;5;132;01m}\u001b[39;00m\u001b[38;5;130;01m\\t\u001b[39;00m\u001b[38;5;132;01m{\u001b[39;00m\u001b[38;5;28;43mfloat\u001b[39;49m\u001b[43m(\u001b[49m\u001b[43mval\u001b[49m\u001b[43m)\u001b[49m\u001b[38;5;132;01m}\u001b[39;00m\u001b[38;5;130;01m\\n\u001b[39;00m\u001b[38;5;124m\"\u001b[39m)\n\u001b[1;32m     15\u001b[0m \u001b[38;5;28mprint\u001b[39m(\u001b[38;5;124mf\u001b[39m\u001b[38;5;124m\"\u001b[39m\u001b[38;5;124m[INFO] Файл \u001b[39m\u001b[38;5;132;01m{\u001b[39;00moutput_file\u001b[38;5;132;01m}\u001b[39;00m\u001b[38;5;124m сохранен.\u001b[39m\u001b[38;5;124m\"\u001b[39m)\n",
      "\u001b[0;31mTypeError\u001b[0m: only size-1 arrays can be converted to Python scalars"
     ]
    }
   ],
   "source": [
    "# Параметры\n",
    "output_dir = \"predicted_expression_by_gene/\"\n",
    "os.makedirs(output_dir, exist_ok=True)\n",
    "\n",
    "# Запуск инференса для гена ACTRT2\n",
    "print(\"Start inference for ACTRT2 gene...\")\n",
    "#infer_and_save_model(chrom, start, end, models, output_dir)\n",
    "infer_and_save_model_mean(chrom, start, end, models, output_dir)\n",
    "print(\"Done.\")\n"
   ]
  },
  {
   "cell_type": "code",
   "execution_count": 23,
   "id": "0218f4fa-209d-4c89-8f5d-6b352b87744c",
   "metadata": {},
   "outputs": [
    {
     "ename": "TypeError",
     "evalue": "plot_coverage_track_pair_bins() got an unexpected keyword argument 'soft_clips'",
     "output_type": "error",
     "traceback": [
      "\u001b[0;31m---------------------------------------------------------------------------\u001b[0m",
      "\u001b[0;31mTypeError\u001b[0m                                 Traceback (most recent call last)",
      "Cell \u001b[0;32mIn[23], line 17\u001b[0m\n\u001b[1;32m     14\u001b[0m track_transforms \u001b[38;5;241m=\u001b[39m [\u001b[38;5;241m3.\u001b[39m\u001b[38;5;241m/\u001b[39m\u001b[38;5;241m4.\u001b[39m]\u001b[38;5;241m*\u001b[39m\u001b[38;5;241m3\u001b[39m\n\u001b[1;32m     15\u001b[0m soft_clips \u001b[38;5;241m=\u001b[39m [\u001b[38;5;241m384.\u001b[39m]\u001b[38;5;241m*\u001b[39m\u001b[38;5;241m3\u001b[39m\n\u001b[0;32m---> 17\u001b[0m \u001b[43mplot_coverage_track_pair_bins\u001b[49m\u001b[43m(\u001b[49m\n\u001b[1;32m     18\u001b[0m \u001b[43m    \u001b[49m\u001b[43my_wt\u001b[49m\u001b[38;5;241;43m=\u001b[39;49m\u001b[43mseq_plus\u001b[49m\u001b[43m,\u001b[49m\n\u001b[1;32m     19\u001b[0m \u001b[43m    \u001b[49m\u001b[43my_mut\u001b[49m\u001b[38;5;241;43m=\u001b[39;49m\u001b[43mseq_minus\u001b[49m\u001b[43m,\u001b[49m\n\u001b[1;32m     20\u001b[0m \u001b[43m    \u001b[49m\u001b[43mchrom\u001b[49m\u001b[38;5;241;43m=\u001b[39;49m\u001b[43mchrom\u001b[49m\u001b[43m,\u001b[49m\n\u001b[1;32m     21\u001b[0m \u001b[43m    \u001b[49m\u001b[43mstart\u001b[49m\u001b[38;5;241;43m=\u001b[39;49m\u001b[43mstart\u001b[49m\u001b[43m,\u001b[49m\n\u001b[1;32m     22\u001b[0m \u001b[43m    \u001b[49m\u001b[43mcenter_pos\u001b[49m\u001b[38;5;241;43m=\u001b[39;49m\u001b[43m(\u001b[49m\u001b[43m(\u001b[49m\u001b[43mstart\u001b[49m\u001b[43m \u001b[49m\u001b[38;5;241;43m+\u001b[39;49m\u001b[43m \u001b[49m\u001b[43mend\u001b[49m\u001b[43m)\u001b[49m\u001b[43m \u001b[49m\u001b[38;5;241;43m/\u001b[39;49m\u001b[38;5;241;43m/\u001b[39;49m\u001b[43m \u001b[49m\u001b[38;5;241;43m2\u001b[39;49m\u001b[43m)\u001b[49m\u001b[43m,\u001b[49m\n\u001b[1;32m     23\u001b[0m \u001b[43m    \u001b[49m\u001b[43mposes\u001b[49m\u001b[38;5;241;43m=\u001b[39;49m\u001b[43m(\u001b[49m\u001b[43m(\u001b[49m\u001b[43mstart\u001b[49m\u001b[43m \u001b[49m\u001b[38;5;241;43m+\u001b[39;49m\u001b[43m \u001b[49m\u001b[43mend\u001b[49m\u001b[43m)\u001b[49m\u001b[43m \u001b[49m\u001b[38;5;241;43m/\u001b[39;49m\u001b[38;5;241;43m/\u001b[39;49m\u001b[43m \u001b[49m\u001b[38;5;241;43m2\u001b[39;49m\u001b[43m)\u001b[49m\u001b[43m,\u001b[49m\n\u001b[1;32m     24\u001b[0m \u001b[43m    \u001b[49m\u001b[43mtrack_indices\u001b[49m\u001b[38;5;241;43m=\u001b[39;49m\u001b[43mtrack_indices\u001b[49m\u001b[43m,\u001b[49m\n\u001b[1;32m     25\u001b[0m \u001b[43m    \u001b[49m\u001b[43mtrack_names\u001b[49m\u001b[38;5;241;43m=\u001b[39;49m\u001b[43mtrack_names\u001b[49m\u001b[43m,\u001b[49m\n\u001b[1;32m     26\u001b[0m \u001b[43m    \u001b[49m\u001b[43mtrack_scales\u001b[49m\u001b[38;5;241;43m=\u001b[39;49m\u001b[43mtrack_scales\u001b[49m\u001b[43m,\u001b[49m\n\u001b[1;32m     27\u001b[0m \u001b[43m    \u001b[49m\u001b[43mtrack_transforms\u001b[49m\u001b[38;5;241;43m=\u001b[39;49m\u001b[43mtrack_transforms\u001b[49m\u001b[43m,\u001b[49m\n\u001b[1;32m     28\u001b[0m \u001b[43m    \u001b[49m\u001b[43msoft_clips\u001b[49m\u001b[38;5;241;43m=\u001b[39;49m\u001b[43msoft_clips\u001b[49m\n\u001b[1;32m     29\u001b[0m \u001b[43m)\u001b[49m\n",
      "\u001b[0;31mTypeError\u001b[0m: plot_coverage_track_pair_bins() got an unexpected keyword argument 'soft_clips'"
     ]
    }
   ],
   "source": [
    "seq_plus = process_sequence(fasta_open, chrom, start, end)\n",
    "seq_minus = reverse_complement_onehot(seq_plus)\n",
    "\n",
    "#Tracks\n",
    "track_indices = [\n",
    "    np.arange(0, 89).tolist()\n",
    "]\n",
    "\n",
    "track_names = [\n",
    "    'GTEx Coverage (All tissues)'\n",
    "]\n",
    "\n",
    "track_scales = [0.01]*3\n",
    "track_transforms = [3./4.]*3\n",
    "soft_clips = [384.]*3\n",
    "\n",
    "plot_coverage_track_pair_bins(\n",
    "    y_wt=seq_plus,\n",
    "    y_mut=seq_minus,\n",
    "    chrom=chrom,\n",
    "    start=start,\n",
    "    center_pos=((start + end) // 2),\n",
    "    poses=((start + end) // 2),\n",
    "    track_indices=track_indices,\n",
    "    track_names=track_names,\n",
    "    track_scales=track_scales,\n",
    "    track_transforms=track_transforms,\n",
    "    soft_clips=soft_clips\n",
    ")\n"
   ]
  }
 ],
 "metadata": {
  "kernelspec": {
   "display_name": "Python 3 (ipykernel)",
   "language": "python",
   "name": "python3"
  },
  "language_info": {
   "codemirror_mode": {
    "name": "ipython",
    "version": 3
   },
   "file_extension": ".py",
   "mimetype": "text/x-python",
   "name": "python",
   "nbconvert_exporter": "python",
   "pygments_lexer": "ipython3",
   "version": "3.10.16"
  }
 },
 "nbformat": 4,
 "nbformat_minor": 5
}
