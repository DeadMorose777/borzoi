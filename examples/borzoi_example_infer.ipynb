{
 "cells": [
  {
   "cell_type": "markdown",
   "id": "1602a87d-54e4-400e-8dbc-10aaf5c51bb9",
   "metadata": {
    "jp-MarkdownHeadingCollapsed": true
   },
   "source": [
    "## Импорты и проч"
   ]
  },
  {
   "cell_type": "code",
   "execution_count": 1,
   "id": "271f7532-07ed-462d-8f10-a863315ee1e2",
   "metadata": {},
   "outputs": [
    {
     "name": "stderr",
     "output_type": "stream",
     "text": [
      "2025-02-16 22:11:21.938305: I tensorflow/core/util/port.cc:111] oneDNN custom operations are on. You may see slightly different numerical results due to floating-point round-off errors from different computation orders. To turn them off, set the environment variable `TF_ENABLE_ONEDNN_OPTS=0`.\n",
      "2025-02-16 22:11:22.058075: E tensorflow/compiler/xla/stream_executor/cuda/cuda_dnn.cc:9342] Unable to register cuDNN factory: Attempting to register factory for plugin cuDNN when one has already been registered\n",
      "2025-02-16 22:11:22.058138: E tensorflow/compiler/xla/stream_executor/cuda/cuda_fft.cc:609] Unable to register cuFFT factory: Attempting to register factory for plugin cuFFT when one has already been registered\n",
      "2025-02-16 22:11:22.058259: E tensorflow/compiler/xla/stream_executor/cuda/cuda_blas.cc:1518] Unable to register cuBLAS factory: Attempting to register factory for plugin cuBLAS when one has already been registered\n",
      "2025-02-16 22:11:22.087140: I tensorflow/core/platform/cpu_feature_guard.cc:182] This TensorFlow binary is optimized to use available CPU instructions in performance-critical operations.\n",
      "To enable the following instructions: AVX2 AVX512F AVX512_VNNI FMA, in other operations, rebuild TensorFlow with the appropriate compiler flags.\n",
      "2025-02-16 22:11:23.706582: W tensorflow/compiler/tf2tensorrt/utils/py_utils.cc:38] TF-TRT Warning: Could not find TensorRT\n"
     ]
    }
   ],
   "source": [
    "# Импортируем необходимые библиотеки и функции\n",
    "import os\n",
    "import json\n",
    "import numpy as np\n",
    "import pandas as pd\n",
    "import pysam\n",
    "import tensorflow as tf\n",
    "\n",
    "from baskerville import seqnn, gene as bgene\n",
    "from borzoi_helpers import process_sequence, predict_tracks  # предполагается, что эти функции доступны\n",
    "\n",
    "# Отключаем лишние предупреждения TensorFlow\n",
    "#tf.compat.v1.logging.set_verbosity(tf.compat.v1.logging.ERROR)\n"
   ]
  },
  {
   "cell_type": "code",
   "execution_count": 2,
   "id": "0bcac038-f4bd-4d87-a73f-23d47108ff54",
   "metadata": {},
   "outputs": [
    {
     "name": "stdout",
     "output_type": "stream",
     "text": [
      "[PhysicalDevice(name='/physical_device:GPU:0', device_type='GPU'), PhysicalDevice(name='/physical_device:GPU:1', device_type='GPU')]\n",
      "2.14.0\n",
      "nvcc: NVIDIA (R) Cuda compiler driver\n",
      "Copyright (c) 2005-2022 NVIDIA Corporation\n",
      "Built on Wed_Sep_21_10:33:58_PDT_2022\n",
      "Cuda compilation tools, release 11.8, V11.8.89\n",
      "Build cuda_11.8.r11.8/compiler.31833905_0\n"
     ]
    }
   ],
   "source": [
    "import tensorflow as tf\n",
    "print(tf.config.list_physical_devices('GPU'))\n",
    "print(tf.__version__)\n",
    "!nvcc -V"
   ]
  },
  {
   "cell_type": "markdown",
   "id": "356f8eaf-d505-4ce8-9e9b-c5b544c50780",
   "metadata": {},
   "source": [
    "## Препроцессинг"
   ]
  },
  {
   "cell_type": "markdown",
   "id": "8710eb18-44df-4a87-b730-ef7972fd83e8",
   "metadata": {},
   "source": [
    "Код для понимания какой индекс отвечает за какую клеточную линию"
   ]
  },
  {
   "cell_type": "code",
   "execution_count": 3,
   "id": "87c017b1-0b6a-4cb4-8380-c79afc8e5b53",
   "metadata": {
    "scrolled": true
   },
   "outputs": [
    {
     "name": "stdout",
     "output_type": "stream",
     "text": [
      "The history saving thread hit an unexpected error (OperationalError('attempt to write a readonly database')).History will not be written to the database.\n",
      "Список каналов для нужных тканей:\n",
      "\n",
      "Ткань 'kidney':\n"
     ]
    },
    {
     "data": {
      "text/html": [
       "<div>\n",
       "<style scoped>\n",
       "    .dataframe tbody tr th:only-of-type {\n",
       "        vertical-align: middle;\n",
       "    }\n",
       "\n",
       "    .dataframe tbody tr th {\n",
       "        vertical-align: top;\n",
       "    }\n",
       "\n",
       "    .dataframe thead th {\n",
       "        text-align: right;\n",
       "    }\n",
       "</style>\n",
       "<table border=\"1\" class=\"dataframe\">\n",
       "  <thead>\n",
       "    <tr style=\"text-align: right;\">\n",
       "      <th></th>\n",
       "      <th>description</th>\n",
       "      <th>local_index</th>\n",
       "    </tr>\n",
       "  </thead>\n",
       "  <tbody>\n",
       "    <tr>\n",
       "      <th>7560</th>\n",
       "      <td>RNA:kidney</td>\n",
       "      <td>38</td>\n",
       "    </tr>\n",
       "    <tr>\n",
       "      <th>7561</th>\n",
       "      <td>RNA:kidney</td>\n",
       "      <td>39</td>\n",
       "    </tr>\n",
       "    <tr>\n",
       "      <th>7562</th>\n",
       "      <td>RNA:kidney</td>\n",
       "      <td>40</td>\n",
       "    </tr>\n",
       "  </tbody>\n",
       "</table>\n",
       "</div>"
      ],
      "text/plain": [
       "     description  local_index\n",
       "7560  RNA:kidney           38\n",
       "7561  RNA:kidney           39\n",
       "7562  RNA:kidney           40"
      ]
     },
     "metadata": {},
     "output_type": "display_data"
    },
    {
     "name": "stdout",
     "output_type": "stream",
     "text": [
      "--------------------------------------------------\n",
      "Ткань 'liver':\n"
     ]
    },
    {
     "data": {
      "text/html": [
       "<div>\n",
       "<style scoped>\n",
       "    .dataframe tbody tr th:only-of-type {\n",
       "        vertical-align: middle;\n",
       "    }\n",
       "\n",
       "    .dataframe tbody tr th {\n",
       "        vertical-align: top;\n",
       "    }\n",
       "\n",
       "    .dataframe thead th {\n",
       "        text-align: right;\n",
       "    }\n",
       "</style>\n",
       "<table border=\"1\" class=\"dataframe\">\n",
       "  <thead>\n",
       "    <tr style=\"text-align: right;\">\n",
       "      <th></th>\n",
       "      <th>description</th>\n",
       "      <th>local_index</th>\n",
       "    </tr>\n",
       "  </thead>\n",
       "  <tbody>\n",
       "    <tr>\n",
       "      <th>7563</th>\n",
       "      <td>RNA:liver</td>\n",
       "      <td>41</td>\n",
       "    </tr>\n",
       "    <tr>\n",
       "      <th>7564</th>\n",
       "      <td>RNA:liver</td>\n",
       "      <td>42</td>\n",
       "    </tr>\n",
       "    <tr>\n",
       "      <th>7565</th>\n",
       "      <td>RNA:liver</td>\n",
       "      <td>43</td>\n",
       "    </tr>\n",
       "  </tbody>\n",
       "</table>\n",
       "</div>"
      ],
      "text/plain": [
       "     description  local_index\n",
       "7563   RNA:liver           41\n",
       "7564   RNA:liver           42\n",
       "7565   RNA:liver           43"
      ]
     },
     "metadata": {},
     "output_type": "display_data"
    },
    {
     "name": "stdout",
     "output_type": "stream",
     "text": [
      "--------------------------------------------------\n",
      "Ткань 'adrenal':\n"
     ]
    },
    {
     "data": {
      "text/html": [
       "<div>\n",
       "<style scoped>\n",
       "    .dataframe tbody tr th:only-of-type {\n",
       "        vertical-align: middle;\n",
       "    }\n",
       "\n",
       "    .dataframe tbody tr th {\n",
       "        vertical-align: top;\n",
       "    }\n",
       "\n",
       "    .dataframe thead th {\n",
       "        text-align: right;\n",
       "    }\n",
       "</style>\n",
       "<table border=\"1\" class=\"dataframe\">\n",
       "  <thead>\n",
       "    <tr style=\"text-align: right;\">\n",
       "      <th></th>\n",
       "      <th>description</th>\n",
       "      <th>local_index</th>\n",
       "    </tr>\n",
       "  </thead>\n",
       "  <tbody>\n",
       "    <tr>\n",
       "      <th>7525</th>\n",
       "      <td>RNA:adrenal_gland</td>\n",
       "      <td>3</td>\n",
       "    </tr>\n",
       "    <tr>\n",
       "      <th>7526</th>\n",
       "      <td>RNA:adrenal_gland</td>\n",
       "      <td>4</td>\n",
       "    </tr>\n",
       "    <tr>\n",
       "      <th>7527</th>\n",
       "      <td>RNA:adrenal_gland</td>\n",
       "      <td>5</td>\n",
       "    </tr>\n",
       "  </tbody>\n",
       "</table>\n",
       "</div>"
      ],
      "text/plain": [
       "            description  local_index\n",
       "7525  RNA:adrenal_gland            3\n",
       "7526  RNA:adrenal_gland            4\n",
       "7527  RNA:adrenal_gland            5"
      ]
     },
     "metadata": {},
     "output_type": "display_data"
    },
    {
     "name": "stdout",
     "output_type": "stream",
     "text": [
      "--------------------------------------------------\n",
      "Ткань 'pancreas':\n"
     ]
    },
    {
     "data": {
      "text/html": [
       "<div>\n",
       "<style scoped>\n",
       "    .dataframe tbody tr th:only-of-type {\n",
       "        vertical-align: middle;\n",
       "    }\n",
       "\n",
       "    .dataframe tbody tr th {\n",
       "        vertical-align: top;\n",
       "    }\n",
       "\n",
       "    .dataframe thead th {\n",
       "        text-align: right;\n",
       "    }\n",
       "</style>\n",
       "<table border=\"1\" class=\"dataframe\">\n",
       "  <thead>\n",
       "    <tr style=\"text-align: right;\">\n",
       "      <th></th>\n",
       "      <th>description</th>\n",
       "      <th>local_index</th>\n",
       "    </tr>\n",
       "  </thead>\n",
       "  <tbody>\n",
       "    <tr>\n",
       "      <th>7577</th>\n",
       "      <td>RNA:pancreas</td>\n",
       "      <td>55</td>\n",
       "    </tr>\n",
       "    <tr>\n",
       "      <th>7578</th>\n",
       "      <td>RNA:pancreas</td>\n",
       "      <td>56</td>\n",
       "    </tr>\n",
       "    <tr>\n",
       "      <th>7579</th>\n",
       "      <td>RNA:pancreas</td>\n",
       "      <td>57</td>\n",
       "    </tr>\n",
       "  </tbody>\n",
       "</table>\n",
       "</div>"
      ],
      "text/plain": [
       "       description  local_index\n",
       "7577  RNA:pancreas           55\n",
       "7578  RNA:pancreas           56\n",
       "7579  RNA:pancreas           57"
      ]
     },
     "metadata": {},
     "output_type": "display_data"
    },
    {
     "name": "stdout",
     "output_type": "stream",
     "text": [
      "--------------------------------------------------\n",
      "Ткань 'lung':\n"
     ]
    },
    {
     "data": {
      "text/html": [
       "<div>\n",
       "<style scoped>\n",
       "    .dataframe tbody tr th:only-of-type {\n",
       "        vertical-align: middle;\n",
       "    }\n",
       "\n",
       "    .dataframe tbody tr th {\n",
       "        vertical-align: top;\n",
       "    }\n",
       "\n",
       "    .dataframe thead th {\n",
       "        text-align: right;\n",
       "    }\n",
       "</style>\n",
       "<table border=\"1\" class=\"dataframe\">\n",
       "  <thead>\n",
       "    <tr style=\"text-align: right;\">\n",
       "      <th></th>\n",
       "      <th>description</th>\n",
       "      <th>local_index</th>\n",
       "    </tr>\n",
       "  </thead>\n",
       "  <tbody>\n",
       "    <tr>\n",
       "      <th>7566</th>\n",
       "      <td>RNA:lung</td>\n",
       "      <td>44</td>\n",
       "    </tr>\n",
       "    <tr>\n",
       "      <th>7567</th>\n",
       "      <td>RNA:lung</td>\n",
       "      <td>45</td>\n",
       "    </tr>\n",
       "    <tr>\n",
       "      <th>7568</th>\n",
       "      <td>RNA:lung</td>\n",
       "      <td>46</td>\n",
       "    </tr>\n",
       "  </tbody>\n",
       "</table>\n",
       "</div>"
      ],
      "text/plain": [
       "     description  local_index\n",
       "7566    RNA:lung           44\n",
       "7567    RNA:lung           45\n",
       "7568    RNA:lung           46"
      ]
     },
     "metadata": {},
     "output_type": "display_data"
    },
    {
     "name": "stdout",
     "output_type": "stream",
     "text": [
      "--------------------------------------------------\n"
     ]
    }
   ],
   "source": [
    "import pandas as pd\n",
    "\n",
    "targets_file = 'targets_gtex.txt'\n",
    "targets_df = pd.read_csv(targets_file, sep='\\t', index_col=0)\n",
    "\n",
    "# Часто удобно иметь явный столбец индексов внутри датафрейма\n",
    "targets_df['local_index'] = range(len(targets_df))\n",
    "\n",
    "# Ткани, которые нас интересуют\n",
    "tissue_list = [\n",
    "    \"kidney\", \n",
    "    \"liver\",\n",
    "    \"adrenal\",\n",
    "    \"pancreas\",\n",
    "    \"lung\"\n",
    "]\n",
    "\n",
    "print(\"Список каналов для нужных тканей:\\n\")\n",
    "\n",
    "for tissue in tissue_list:\n",
    "    # Поищем все строки, где в описании есть это слово/фраза (без учёта регистра)\n",
    "    matches = targets_df[ targets_df['description'].str.lower().str.contains(tissue.lower()) ]\n",
    "    \n",
    "    if len(matches) == 0:\n",
    "        print(f\"Ткань '{tissue}' не найдена в targets_df['description'].\")\n",
    "    else:\n",
    "        print(f\"Ткань '{tissue}':\")\n",
    "        display(matches[['description','local_index']])\n",
    "        print(\"-\"*50)\n"
   ]
  },
  {
   "cell_type": "code",
   "execution_count": 64,
   "id": "c3496cfb-b36f-4718-8bf1-2fe37890860b",
   "metadata": {},
   "outputs": [
    {
     "data": {
      "text/html": [
       "<div>\n",
       "<style scoped>\n",
       "    .dataframe tbody tr th:only-of-type {\n",
       "        vertical-align: middle;\n",
       "    }\n",
       "\n",
       "    .dataframe tbody tr th {\n",
       "        vertical-align: top;\n",
       "    }\n",
       "\n",
       "    .dataframe thead th {\n",
       "        text-align: right;\n",
       "    }\n",
       "</style>\n",
       "<table border=\"1\" class=\"dataframe\">\n",
       "  <thead>\n",
       "    <tr style=\"text-align: right;\">\n",
       "      <th></th>\n",
       "      <th>identifier</th>\n",
       "      <th>file</th>\n",
       "      <th>clip</th>\n",
       "      <th>clip_soft</th>\n",
       "      <th>scale</th>\n",
       "      <th>sum_stat</th>\n",
       "      <th>strand_pair</th>\n",
       "      <th>description</th>\n",
       "    </tr>\n",
       "  </thead>\n",
       "  <tbody>\n",
       "    <tr>\n",
       "      <th>7522</th>\n",
       "      <td>GTEX-132QS-2526-SM-62LFJ.1</td>\n",
       "      <td>/home/drk/tillage/datasets/human/rna/recount3/...</td>\n",
       "      <td>768</td>\n",
       "      <td>384</td>\n",
       "      <td>0.01</td>\n",
       "      <td>sum_sqrt</td>\n",
       "      <td>7522</td>\n",
       "      <td>RNA:adipose_tissue</td>\n",
       "    </tr>\n",
       "    <tr>\n",
       "      <th>7523</th>\n",
       "      <td>GTEX-1GMR3-0826-SM-9WYT4.1</td>\n",
       "      <td>/home/drk/tillage/datasets/human/rna/recount3/...</td>\n",
       "      <td>768</td>\n",
       "      <td>384</td>\n",
       "      <td>0.01</td>\n",
       "      <td>sum_sqrt</td>\n",
       "      <td>7523</td>\n",
       "      <td>RNA:adipose_tissue</td>\n",
       "    </tr>\n",
       "    <tr>\n",
       "      <th>7524</th>\n",
       "      <td>GTEX-1HSEH-0226-SM-ACKVV.1</td>\n",
       "      <td>/home/drk/tillage/datasets/human/rna/recount3/...</td>\n",
       "      <td>768</td>\n",
       "      <td>384</td>\n",
       "      <td>0.01</td>\n",
       "      <td>sum_sqrt</td>\n",
       "      <td>7524</td>\n",
       "      <td>RNA:adipose_tissue</td>\n",
       "    </tr>\n",
       "    <tr>\n",
       "      <th>7525</th>\n",
       "      <td>GTEX-11GSP-0326-SM-5A5KW.1</td>\n",
       "      <td>/home/drk/tillage/datasets/human/rna/recount3/...</td>\n",
       "      <td>768</td>\n",
       "      <td>384</td>\n",
       "      <td>0.01</td>\n",
       "      <td>sum_sqrt</td>\n",
       "      <td>7525</td>\n",
       "      <td>RNA:adrenal_gland</td>\n",
       "    </tr>\n",
       "    <tr>\n",
       "      <th>7526</th>\n",
       "      <td>GTEX-13PVR-0226-SM-5RQJI.1</td>\n",
       "      <td>/home/drk/tillage/datasets/human/rna/recount3/...</td>\n",
       "      <td>768</td>\n",
       "      <td>384</td>\n",
       "      <td>0.01</td>\n",
       "      <td>sum_sqrt</td>\n",
       "      <td>7526</td>\n",
       "      <td>RNA:adrenal_gland</td>\n",
       "    </tr>\n",
       "    <tr>\n",
       "      <th>...</th>\n",
       "      <td>...</td>\n",
       "      <td>...</td>\n",
       "      <td>...</td>\n",
       "      <td>...</td>\n",
       "      <td>...</td>\n",
       "      <td>...</td>\n",
       "      <td>...</td>\n",
       "      <td>...</td>\n",
       "    </tr>\n",
       "    <tr>\n",
       "      <th>7606</th>\n",
       "      <td>GTEX-13FTX-1026-SM-5J2O5.1</td>\n",
       "      <td>/home/drk/tillage/datasets/human/rna/recount3/...</td>\n",
       "      <td>768</td>\n",
       "      <td>384</td>\n",
       "      <td>0.01</td>\n",
       "      <td>sum_sqrt</td>\n",
       "      <td>7606</td>\n",
       "      <td>RNA:uterus</td>\n",
       "    </tr>\n",
       "    <tr>\n",
       "      <th>7607</th>\n",
       "      <td>GTEX-1MA7W-1526-SM-DHXKS.1</td>\n",
       "      <td>/home/drk/tillage/datasets/human/rna/recount3/...</td>\n",
       "      <td>768</td>\n",
       "      <td>384</td>\n",
       "      <td>0.01</td>\n",
       "      <td>sum_sqrt</td>\n",
       "      <td>7607</td>\n",
       "      <td>RNA:uterus</td>\n",
       "    </tr>\n",
       "    <tr>\n",
       "      <th>7608</th>\n",
       "      <td>GTEX-11EMC-1926-SM-5A5JU.1</td>\n",
       "      <td>/home/drk/tillage/datasets/human/rna/recount3/...</td>\n",
       "      <td>768</td>\n",
       "      <td>384</td>\n",
       "      <td>0.01</td>\n",
       "      <td>sum_sqrt</td>\n",
       "      <td>7608</td>\n",
       "      <td>RNA:vagina</td>\n",
       "    </tr>\n",
       "    <tr>\n",
       "      <th>7609</th>\n",
       "      <td>GTEX-12WSB-2426-SM-5EGJC.1</td>\n",
       "      <td>/home/drk/tillage/datasets/human/rna/recount3/...</td>\n",
       "      <td>768</td>\n",
       "      <td>384</td>\n",
       "      <td>0.01</td>\n",
       "      <td>sum_sqrt</td>\n",
       "      <td>7609</td>\n",
       "      <td>RNA:vagina</td>\n",
       "    </tr>\n",
       "    <tr>\n",
       "      <th>7610</th>\n",
       "      <td>GTEX-W5WG-1026-SM-4LMIF.1</td>\n",
       "      <td>/home/drk/tillage/datasets/human/rna/recount3/...</td>\n",
       "      <td>768</td>\n",
       "      <td>384</td>\n",
       "      <td>0.01</td>\n",
       "      <td>sum_sqrt</td>\n",
       "      <td>7610</td>\n",
       "      <td>RNA:vagina</td>\n",
       "    </tr>\n",
       "  </tbody>\n",
       "</table>\n",
       "<p>89 rows × 8 columns</p>\n",
       "</div>"
      ],
      "text/plain": [
       "                      identifier  \\\n",
       "7522  GTEX-132QS-2526-SM-62LFJ.1   \n",
       "7523  GTEX-1GMR3-0826-SM-9WYT4.1   \n",
       "7524  GTEX-1HSEH-0226-SM-ACKVV.1   \n",
       "7525  GTEX-11GSP-0326-SM-5A5KW.1   \n",
       "7526  GTEX-13PVR-0226-SM-5RQJI.1   \n",
       "...                          ...   \n",
       "7606  GTEX-13FTX-1026-SM-5J2O5.1   \n",
       "7607  GTEX-1MA7W-1526-SM-DHXKS.1   \n",
       "7608  GTEX-11EMC-1926-SM-5A5JU.1   \n",
       "7609  GTEX-12WSB-2426-SM-5EGJC.1   \n",
       "7610   GTEX-W5WG-1026-SM-4LMIF.1   \n",
       "\n",
       "                                                   file  clip  clip_soft  \\\n",
       "7522  /home/drk/tillage/datasets/human/rna/recount3/...   768        384   \n",
       "7523  /home/drk/tillage/datasets/human/rna/recount3/...   768        384   \n",
       "7524  /home/drk/tillage/datasets/human/rna/recount3/...   768        384   \n",
       "7525  /home/drk/tillage/datasets/human/rna/recount3/...   768        384   \n",
       "7526  /home/drk/tillage/datasets/human/rna/recount3/...   768        384   \n",
       "...                                                 ...   ...        ...   \n",
       "7606  /home/drk/tillage/datasets/human/rna/recount3/...   768        384   \n",
       "7607  /home/drk/tillage/datasets/human/rna/recount3/...   768        384   \n",
       "7608  /home/drk/tillage/datasets/human/rna/recount3/...   768        384   \n",
       "7609  /home/drk/tillage/datasets/human/rna/recount3/...   768        384   \n",
       "7610  /home/drk/tillage/datasets/human/rna/recount3/...   768        384   \n",
       "\n",
       "      scale  sum_stat  strand_pair         description  \n",
       "7522   0.01  sum_sqrt         7522  RNA:adipose_tissue  \n",
       "7523   0.01  sum_sqrt         7523  RNA:adipose_tissue  \n",
       "7524   0.01  sum_sqrt         7524  RNA:adipose_tissue  \n",
       "7525   0.01  sum_sqrt         7525   RNA:adrenal_gland  \n",
       "7526   0.01  sum_sqrt         7526   RNA:adrenal_gland  \n",
       "...     ...       ...          ...                 ...  \n",
       "7606   0.01  sum_sqrt         7606          RNA:uterus  \n",
       "7607   0.01  sum_sqrt         7607          RNA:uterus  \n",
       "7608   0.01  sum_sqrt         7608          RNA:vagina  \n",
       "7609   0.01  sum_sqrt         7609          RNA:vagina  \n",
       "7610   0.01  sum_sqrt         7610          RNA:vagina  \n",
       "\n",
       "[89 rows x 8 columns]"
      ]
     },
     "execution_count": 64,
     "metadata": {},
     "output_type": "execute_result"
    }
   ],
   "source": [
    "targets_df"
   ]
  },
  {
   "cell_type": "code",
   "execution_count": 3,
   "id": "b9f376d3-898d-4372-a8c6-b0f63f7650df",
   "metadata": {},
   "outputs": [],
   "source": [
    "kidney_ix =  39  \n",
    "liver_ix =   42  # \"left lobe of liver tissue\"\n",
    "adrenal_ix = 4\n",
    "pancreas_ix =56\n",
    "lung_ix =    45\n",
    "\n",
    "# Словарь: название ткани -> индекс канала модели\n",
    "channels_dict = {\n",
    "    \"ENCFF123KIW_kidney\"                 : kidney_ix,\n",
    "    \"ENCFF784MDF_left_lobe_of_liver\"     : liver_ix,\n",
    "    \"ENCFF236XOK_adrenal_gland\"          : adrenal_ix,\n",
    "    \"ENCFF781TTC_pancreas\"               : pancreas_ix,\n",
    "    \"ENCFF242BWW_lung\"                   : lung_ix\n",
    "}"
   ]
  },
  {
   "cell_type": "code",
   "execution_count": 4,
   "id": "8695c874-5af3-44f9-8413-5a91f8be2a8c",
   "metadata": {},
   "outputs": [
    {
     "name": "stdout",
     "output_type": "stream",
     "text": [
      "6888\n"
     ]
    },
    {
     "data": {
      "text/html": [
       "<div>\n",
       "<style scoped>\n",
       "    .dataframe tbody tr th:only-of-type {\n",
       "        vertical-align: middle;\n",
       "    }\n",
       "\n",
       "    .dataframe tbody tr th {\n",
       "        vertical-align: top;\n",
       "    }\n",
       "\n",
       "    .dataframe thead th {\n",
       "        text-align: right;\n",
       "    }\n",
       "</style>\n",
       "<table border=\"1\" class=\"dataframe\">\n",
       "  <thead>\n",
       "    <tr style=\"text-align: right;\">\n",
       "      <th></th>\n",
       "      <th>chrom</th>\n",
       "      <th>start</th>\n",
       "      <th>end</th>\n",
       "      <th>fold</th>\n",
       "    </tr>\n",
       "  </thead>\n",
       "  <tbody>\n",
       "    <tr>\n",
       "      <th>20329</th>\n",
       "      <td>chr5</td>\n",
       "      <td>41626145</td>\n",
       "      <td>41822753</td>\n",
       "      <td>fold3</td>\n",
       "    </tr>\n",
       "    <tr>\n",
       "      <th>20330</th>\n",
       "      <td>chr11</td>\n",
       "      <td>40389266</td>\n",
       "      <td>40585874</td>\n",
       "      <td>fold3</td>\n",
       "    </tr>\n",
       "    <tr>\n",
       "      <th>20331</th>\n",
       "      <td>chr11</td>\n",
       "      <td>32570759</td>\n",
       "      <td>32767367</td>\n",
       "      <td>fold3</td>\n",
       "    </tr>\n",
       "    <tr>\n",
       "      <th>20332</th>\n",
       "      <td>chr6</td>\n",
       "      <td>164265822</td>\n",
       "      <td>164462430</td>\n",
       "      <td>fold3</td>\n",
       "    </tr>\n",
       "    <tr>\n",
       "      <th>20333</th>\n",
       "      <td>chr5</td>\n",
       "      <td>13736747</td>\n",
       "      <td>13933355</td>\n",
       "      <td>fold3</td>\n",
       "    </tr>\n",
       "  </tbody>\n",
       "</table>\n",
       "</div>"
      ],
      "text/plain": [
       "       chrom      start        end   fold\n",
       "20329   chr5   41626145   41822753  fold3\n",
       "20330  chr11   40389266   40585874  fold3\n",
       "20331  chr11   32570759   32767367  fold3\n",
       "20332   chr6  164265822  164462430  fold3\n",
       "20333   chr5   13736747   13933355  fold3"
      ]
     },
     "execution_count": 4,
     "metadata": {},
     "output_type": "execute_result"
    }
   ],
   "source": [
    "import pandas as pd\n",
    "import gzip\n",
    "\n",
    "# Загрузим файл .bed.gz с последовательностями\n",
    "bed_file_path = '../data/sequences_human.bed.gz'\n",
    "\n",
    "# Открываем и загружаем данные из .bed файла\n",
    "with gzip.open(bed_file_path, 'rt') as file:\n",
    "    bed_data = pd.read_csv(file, sep='\\t', header=None, names=[\"chrom\", \"start\", \"end\", \"fold\"])\n",
    "\n",
    "# Фильтрация данных по фолду\n",
    "folds_to_process = ['fold3']  # Можно изменить на нужные фолды\n",
    "filtered_bed_data = bed_data[bed_data['fold'].isin(folds_to_process)]\n",
    "\n",
    "# Сгруппируем по хромосомам\n",
    "grouped = filtered_bed_data.groupby(\"chrom\")\n",
    "\n",
    "print(len(filtered_bed_data))\n",
    "# Посмотрим первые несколько строк\n",
    "filtered_bed_data.head()"
   ]
  },
  {
   "cell_type": "code",
   "execution_count": 5,
   "id": "27e16dc3-263c-464d-86ef-3f88a521518c",
   "metadata": {},
   "outputs": [
    {
     "name": "stdout",
     "output_type": "stream",
     "text": [
      "Количество интервалов до мерджа: 6888\n"
     ]
    },
    {
     "name": "stderr",
     "output_type": "stream",
     "text": [
      "Мержим интервалы: 100%|████████████████████████████████████████████████████████████████████████████████████████████████████████████████████████████████| 17/17 [00:00<00:00, 989.92it/s]"
     ]
    },
    {
     "name": "stdout",
     "output_type": "stream",
     "text": [
      "Количество интервалов после мерджа: 46\n"
     ]
    },
    {
     "name": "stderr",
     "output_type": "stream",
     "text": [
      "\n"
     ]
    },
    {
     "data": {
      "text/html": [
       "<div>\n",
       "<style scoped>\n",
       "    .dataframe tbody tr th:only-of-type {\n",
       "        vertical-align: middle;\n",
       "    }\n",
       "\n",
       "    .dataframe tbody tr th {\n",
       "        vertical-align: top;\n",
       "    }\n",
       "\n",
       "    .dataframe thead th {\n",
       "        text-align: right;\n",
       "    }\n",
       "</style>\n",
       "<table border=\"1\" class=\"dataframe\">\n",
       "  <thead>\n",
       "    <tr style=\"text-align: right;\">\n",
       "      <th></th>\n",
       "      <th>chrom</th>\n",
       "      <th>start</th>\n",
       "      <th>end</th>\n",
       "      <th>fold</th>\n",
       "    </tr>\n",
       "  </thead>\n",
       "  <tbody>\n",
       "    <tr>\n",
       "      <th>0</th>\n",
       "      <td>chr1</td>\n",
       "      <td>143479625</td>\n",
       "      <td>143823752</td>\n",
       "      <td>fold3</td>\n",
       "    </tr>\n",
       "    <tr>\n",
       "      <th>1</th>\n",
       "      <td>chr1</td>\n",
       "      <td>227321006</td>\n",
       "      <td>228550247</td>\n",
       "      <td>fold3</td>\n",
       "    </tr>\n",
       "    <tr>\n",
       "      <th>2</th>\n",
       "      <td>chr11</td>\n",
       "      <td>25440674</td>\n",
       "      <td>48748592</td>\n",
       "      <td>fold3</td>\n",
       "    </tr>\n",
       "    <tr>\n",
       "      <th>3</th>\n",
       "      <td>chr11</td>\n",
       "      <td>48896195</td>\n",
       "      <td>49191149</td>\n",
       "      <td>fold3</td>\n",
       "    </tr>\n",
       "    <tr>\n",
       "      <th>4</th>\n",
       "      <td>chr11</td>\n",
       "      <td>54525074</td>\n",
       "      <td>54820028</td>\n",
       "      <td>fold3</td>\n",
       "    </tr>\n",
       "  </tbody>\n",
       "</table>\n",
       "</div>"
      ],
      "text/plain": [
       "   chrom      start        end   fold\n",
       "0   chr1  143479625  143823752  fold3\n",
       "1   chr1  227321006  228550247  fold3\n",
       "2  chr11   25440674   48748592  fold3\n",
       "3  chr11   48896195   49191149  fold3\n",
       "4  chr11   54525074   54820028  fold3"
      ]
     },
     "execution_count": 5,
     "metadata": {},
     "output_type": "execute_result"
    }
   ],
   "source": [
    "from tqdm import tqdm\n",
    "\n",
    "def merge_intervals(intervals):\n",
    "    \"\"\"\n",
    "    Принимает список интервалов вида [(start, end), ...] и возвращает список объединённых интервалов.\n",
    "    \"\"\"\n",
    "    # Сортируем интервалы по start\n",
    "    intervals.sort(key=lambda x: x[0])\n",
    "    merged = []\n",
    "    for start, end in intervals:\n",
    "        if not merged or start > merged[-1][1]:\n",
    "            merged.append([start, end])\n",
    "        else:\n",
    "            merged[-1][1] = max(merged[-1][1], end)\n",
    "    return merged\n",
    "\n",
    "print(\"Количество интервалов до мерджа:\", len(filtered_bed_data))\n",
    "\n",
    "# Объединяем интервалы по каждой хромосоме с прогресс-баром.\n",
    "merged_intervals_list = []\n",
    "# Количество групп = число уникальных хромосом в filtered_bed_data\n",
    "unique_chroms = filtered_bed_data['chrom'].nunique()\n",
    "for chrom, group in tqdm(filtered_bed_data.groupby(\"chrom\"), desc=\"Мержим интервалы\", total=unique_chroms):\n",
    "    # Получаем список интервалов для данной хромосомы\n",
    "    intervals = group[['start', 'end']].values.tolist()\n",
    "    merged = merge_intervals(intervals)\n",
    "    # Если все интервалы имеют одинаковый fold, то просто берем первый\n",
    "    fold_val = group['fold'].iloc[0]\n",
    "    for start, end in merged:\n",
    "        merged_intervals_list.append({'chrom': chrom, 'start': start, 'end': end, 'fold': fold_val})\n",
    "\n",
    "# Перезаписываем filtered_bed_data объединёнными интервалами\n",
    "filtered_bed_data = pd.DataFrame(merged_intervals_list)\n",
    "\n",
    "# Выведем результат для проверки\n",
    "print(\"Количество интервалов после мерджа:\", len(filtered_bed_data))\n",
    "filtered_bed_data.head()\n"
   ]
  },
  {
   "cell_type": "markdown",
   "id": "0d775e26-5708-40d5-af32-fa13b6c8ba89",
   "metadata": {
    "jp-MarkdownHeadingCollapsed": true
   },
   "source": [
    "## Проверка данных"
   ]
  },
  {
   "cell_type": "markdown",
   "id": "ba6d5dbf-18d6-4aff-a9c8-de8b5757820f",
   "metadata": {},
   "source": [
    "Убедимся что все записи влезут во входящее окно модели"
   ]
  },
  {
   "cell_type": "code",
   "execution_count": 6,
   "id": "c1871339-b2e9-400f-b396-42220742d447",
   "metadata": {},
   "outputs": [
    {
     "name": "stdout",
     "output_type": "stream",
     "text": [
      "Максимальная длина последовательности: 67957002 нуклеотидов\n"
     ]
    }
   ],
   "source": [
    "# Находим максимальную длину последовательности\n",
    "max_sequence_length = 0\n",
    "\n",
    "for index, row in filtered_bed_data.iterrows():\n",
    "    start = row['start']\n",
    "    end = row['end']\n",
    "    \n",
    "    # Вычисляем длину текущей последовательности\n",
    "    sequence_length = end - start\n",
    "    \n",
    "    # Обновляем максимальную длину, если текущая больше\n",
    "    if sequence_length > max_sequence_length:\n",
    "        max_sequence_length = sequence_length\n",
    "\n",
    "print(f\"Максимальная длина последовательности: {max_sequence_length} нуклеотидов\")\n"
   ]
  },
  {
   "cell_type": "markdown",
   "id": "c0f98bc5-6983-463d-aad5-37a9d8d37ab3",
   "metadata": {},
   "source": [
    "Проверка на пересечения"
   ]
  },
  {
   "cell_type": "code",
   "execution_count": 7,
   "id": "50821f49-ce28-4efa-8a56-522b05a40531",
   "metadata": {
    "scrolled": true
   },
   "outputs": [
    {
     "name": "stderr",
     "output_type": "stream",
     "text": [
      "Checking for overlaps: 100%|██████████████████████████████████████████████████████████████████████████████████████████████████████████████████████████| 17/17 [00:00<00:00, 1105.77it/s]"
     ]
    },
    {
     "name": "stdout",
     "output_type": "stream",
     "text": [
      "Пересечений не обнаружено в filtered_bed_data.\n"
     ]
    },
    {
     "name": "stderr",
     "output_type": "stream",
     "text": [
      "\n"
     ]
    }
   ],
   "source": [
    "import pandas as pd\n",
    "from tqdm import tqdm\n",
    "\n",
    "overlap_found = False\n",
    "\n",
    "# Получаем список уникальных хромосом\n",
    "chromosomes = filtered_bed_data['chrom'].unique()\n",
    "\n",
    "# Используем tqdm для отображения прогресса\n",
    "for chrom in tqdm(chromosomes, desc=\"Checking for overlaps\"):\n",
    "    # Фильтруем по текущей хромосоме\n",
    "    group = filtered_bed_data[filtered_bed_data['chrom'] == chrom]\n",
    "    \n",
    "    # Сортируем записи по старту\n",
    "    sorted_group = group.sort_values('start')\n",
    "    \n",
    "    # Инициализируем предыдущую запись\n",
    "    prev_row = None\n",
    "    \n",
    "    # Проходим по отсортированным записям\n",
    "    for idx, row in sorted_group.iterrows():\n",
    "        if prev_row is not None:\n",
    "            # Проверяем пересечение\n",
    "            if row['start'] < prev_row['end']:\n",
    "                print(f\"Пересечение на {chrom}: {prev_row[['start', 'end']].to_dict()} и {row[['start', 'end']].to_dict()}\")\n",
    "                overlap_found = True\n",
    "        prev_row = row\n",
    "\n",
    "if not overlap_found:\n",
    "    print(\"Пересечений не обнаружено в filtered_bed_data.\")\n"
   ]
  },
  {
   "cell_type": "code",
   "execution_count": 8,
   "id": "484758a2-709d-4f14-b2f9-86219a181aa3",
   "metadata": {},
   "outputs": [
    {
     "name": "stdout",
     "output_type": "stream",
     "text": [
      "Уникальные хромосомы в выборке:\n",
      "['chr5' 'chr11' 'chr6' 'chr9' 'chr13' 'chr2' 'chr8' 'chr7' 'chr17' 'chrX'\n",
      " 'chr18' 'chr12' 'chr15' 'chr19' 'chr1' 'chr16' 'chr20']\n",
      "Количество уникальных хромосом: 17\n",
      "\n",
      "Минимальный start и максимальный end по хромосомам:\n",
      "       min_start    max_end\n",
      "chrom                      \n",
      "chr1   143479625  228550247\n",
      "chr11   25440674   56541083\n",
      "chr12   32992234   34368994\n",
      "chr13   40653298  102135774\n",
      "chr15   20168638   34675550\n",
      "chr16   33491584   33884884\n",
      "chr17   81799133   83225066\n",
      "chr18   13485786   15206757\n",
      "chr19    3108622    9156817\n",
      "chr2    68747521  129505661\n",
      "chr20   30186694   30383302\n",
      "chr5     8770274  103148800\n",
      "chr6    99603327  170690035\n",
      "chr7       10000   74778699\n",
      "chr8     8158857   55824055\n",
      "chr9    80588528  138217638\n",
      "chrX     3230043   58109050\n",
      "\n",
      "Выборка содержит более одной хромосомы.\n"
     ]
    }
   ],
   "source": [
    "import pandas as pd\n",
    "import gzip\n",
    "\n",
    "# Загрузим данные из bed-файла\n",
    "bed_file_path = '../data/sequences_human.bed.gz'\n",
    "with gzip.open(bed_file_path, 'rt') as file:\n",
    "    bed_data = pd.read_csv(file, sep='\\t', header=None, \n",
    "                           names=[\"chrom\", \"start\", \"end\", \"fold\"])\n",
    "\n",
    "# Фильтруем данные по fold3 и fold4\n",
    "#folds_to_process = ['fold3', 'fold4']\n",
    "folds_to_process = ['fold3']\n",
    "filtered_bed_data = bed_data[bed_data['fold'].isin(folds_to_process)]\n",
    "\n",
    "# Выведем список уникальных хромосом\n",
    "unique_chroms = filtered_bed_data['chrom'].unique()\n",
    "print(\"Уникальные хромосомы в выборке:\")\n",
    "print(unique_chroms)\n",
    "print(f\"Количество уникальных хромосом: {len(unique_chroms)}\")\n",
    "\n",
    "# Для каждой хромосомы находим минимальный start и максимальный end\n",
    "chrom_stats = filtered_bed_data.groupby(\"chrom\").agg(min_start=('start', 'min'),\n",
    "                                                      max_end=('end', 'max'))\n",
    "print(\"\\nМинимальный start и максимальный end по хромосомам:\")\n",
    "print(chrom_stats)\n",
    "\n",
    "if len(unique_chroms) > 1:\n",
    "    print(\"\\nВыборка содержит более одной хромосомы.\")\n",
    "else:\n",
    "    print(\"\\nВыборка содержит только одну хромосому.\")\n"
   ]
  },
  {
   "cell_type": "markdown",
   "id": "f758c39f-4ea0-4315-ba25-88035f51f983",
   "metadata": {},
   "source": [
    "## Модель"
   ]
  },
  {
   "cell_type": "code",
   "execution_count": 9,
   "id": "8861ef2c-9185-4c8e-9011-b591d8e08535",
   "metadata": {},
   "outputs": [
    {
     "name": "stderr",
     "output_type": "stream",
     "text": [
      "2025-02-16 22:12:56.230142: I tensorflow/core/common_runtime/gpu/gpu_device.cc:1886] Created device /job:localhost/replica:0/task:0/device:GPU:0 with 23390 MB memory:  -> device: 0, name: Tesla V100-PCIE-32GB, pci bus id: 0000:21:01.0, compute capability: 7.0\n",
      "2025-02-16 22:12:56.230884: I tensorflow/core/common_runtime/gpu/gpu_device.cc:1886] Created device /job:localhost/replica:0/task:0/device:GPU:1 with 30965 MB memory:  -> device: 1, name: Tesla V100-PCIE-32GB, pci bus id: 0000:21:02.0, compute capability: 7.0\n"
     ]
    },
    {
     "name": "stdout",
     "output_type": "stream",
     "text": [
      "Модель загружена и готова.\n"
     ]
    }
   ],
   "source": [
    "# --- ЯЧЕЙКА 5: Подготовка модели ---\n",
    "\n",
    "from baskerville import seqnn\n",
    "\n",
    "params_file = 'params_pred.json'\n",
    "with open(params_file) as f:\n",
    "    params = json.load(f)\n",
    "\n",
    "params_model = params['model']\n",
    "params_train = params['train']\n",
    "\n",
    "model_file = 'saved_models/f3c0/train/model0_best.h5'\n",
    "rc = False  # <-- важно, чтобы отдельно +/−, без усреднения\n",
    "n_reps = 1\n",
    "\n",
    "targets_file = 'targets_gtex.txt'\n",
    "targets_df = pd.read_csv(targets_file, sep='\\t', index_col=0)\n",
    "target_index = targets_df.index\n",
    "\n",
    "seqnn_model = seqnn.SeqNN(params_model)\n",
    "seqnn_model.restore(model_file, 0)\n",
    "seqnn_model.build_slice(target_index)\n",
    "seqnn_model.build_ensemble(rc, [0])\n",
    "\n",
    "models = [seqnn_model]\n",
    "print(\"Модель загружена и готова.\")\n"
   ]
  },
  {
   "cell_type": "code",
   "execution_count": 18,
   "id": "6bb2fe65-88bc-448d-9a3c-1479dc26a168",
   "metadata": {},
   "outputs": [
    {
     "name": "stdout",
     "output_type": "stream",
     "text": [
      "Проверка chr_sizes: ['chr1', 'chr10', 'chr11', 'chr11_KI270721v1_random', 'chr12'] ...\n"
     ]
    }
   ],
   "source": [
    "# --- ЯЧЕЙКА 6: Загрузка FASTA и вычисление chr_sizes ---\n",
    "\n",
    "fasta_path = \"hg38/assembly/ucsc/hg38.fa\"\n",
    "fasta_index = pysam.Fastafile(fasta_path)\n",
    "\n",
    "chr_sizes = {\n",
    "    chrom: fasta_index.get_reference_length(chrom)\n",
    "    for chrom in fasta_index.references\n",
    "}\n",
    "\n",
    "print(\"Проверка chr_sizes:\", list(chr_sizes.keys())[:5], \"...\")  # Выведем несколько для примера\n"
   ]
  },
  {
   "cell_type": "markdown",
   "id": "70cfab9c-871c-4cfc-89cb-540d2ae9721e",
   "metadata": {},
   "source": [
    "# Инференс"
   ]
  },
  {
   "cell_type": "code",
   "execution_count": 19,
   "id": "2ada4fba-ddb9-42db-9761-a7a162d2fa1c",
   "metadata": {},
   "outputs": [
    {
     "name": "stdout",
     "output_type": "stream",
     "text": [
      "Всего сформировано 13776 окон.\n"
     ]
    }
   ],
   "source": [
    "# --- ЯЧЕЙКА 7: Формируем список окон ---\n",
    "\n",
    "center_len = 196_000\n",
    "context_len = 160_000\n",
    "\n",
    "all_windows = []\n",
    "for _, row in filtered_bed_data.iterrows():\n",
    "    chrom = row['chrom']\n",
    "    start_merged = row['start']\n",
    "    end_merged   = row['end']\n",
    "    curr_start = start_merged\n",
    "    while curr_start < end_merged:\n",
    "        curr_end = curr_start + center_len\n",
    "        if curr_end > end_merged:\n",
    "            curr_end = end_merged\n",
    "        all_windows.append((chrom, curr_start, curr_end))\n",
    "        curr_start = curr_end\n",
    "\n",
    "print(f\"Всего сформировано {len(all_windows)} окон.\")\n"
   ]
  },
  {
   "cell_type": "code",
   "execution_count": 20,
   "id": "af85e3e4-7aec-40d8-afc2-850818848728",
   "metadata": {},
   "outputs": [
    {
     "name": "stdout",
     "output_type": "stream",
     "text": [
      "Предсозданы файлы .bedGraph:\n",
      "predicted_expression_by_chromosomes/borzoi_rnaseq_fold3_st+_ENCFF123KIW_kidney.bedGraph\n",
      "predicted_expression_by_chromosomes/borzoi_rnaseq_fold3_st-_ENCFF123KIW_kidney.bedGraph\n",
      "predicted_expression_by_chromosomes/borzoi_rnaseq_fold3_st+_ENCFF784MDF_left_lobe_of_liver.bedGraph\n",
      "predicted_expression_by_chromosomes/borzoi_rnaseq_fold3_st-_ENCFF784MDF_left_lobe_of_liver.bedGraph\n",
      "predicted_expression_by_chromosomes/borzoi_rnaseq_fold3_st+_ENCFF236XOK_adrenal_gland.bedGraph\n",
      "predicted_expression_by_chromosomes/borzoi_rnaseq_fold3_st-_ENCFF236XOK_adrenal_gland.bedGraph\n",
      "predicted_expression_by_chromosomes/borzoi_rnaseq_fold3_st+_ENCFF781TTC_pancreas.bedGraph\n",
      "predicted_expression_by_chromosomes/borzoi_rnaseq_fold3_st-_ENCFF781TTC_pancreas.bedGraph\n",
      "predicted_expression_by_chromosomes/borzoi_rnaseq_fold3_st+_ENCFF242BWW_lung.bedGraph\n",
      "predicted_expression_by_chromosomes/borzoi_rnaseq_fold3_st-_ENCFF242BWW_lung.bedGraph\n"
     ]
    }
   ],
   "source": [
    "# --- ЯЧЕЙКА 8: Предсоздание bedGraph файлов ---\n",
    "\n",
    "output_dir = \"predicted_expression_by_chromosomes/\"\n",
    "os.makedirs(output_dir, exist_ok=True)\n",
    "\n",
    "folds_str = \"_\".join(folds_to_process)\n",
    "chains = [\"st+\", \"st-\"]\n",
    "\n",
    "for bed_name in channels_dict.keys():\n",
    "    for chain in chains:\n",
    "        file_path = os.path.join(output_dir, f\"borzoi_rnaseq_{folds_str}_{chain}_{bed_name}.bedGraph\")\n",
    "        with open(file_path, \"w\") as f:\n",
    "            f.write(f\"track type=bedGraph name=\\\"{bed_name} {chain}\\\"\\n\")\n",
    "\n",
    "print(\"Предсозданы файлы .bedGraph:\")\n",
    "for bed_name in channels_dict.keys():\n",
    "    for chain in chains:\n",
    "        fp = os.path.join(output_dir, f\"borzoi_rnaseq_{folds_str}_{chain}_{bed_name}.bedGraph\")\n",
    "        print(fp)\n"
   ]
  },
  {
   "cell_type": "code",
   "execution_count": 21,
   "id": "455f01db-fdab-4b75-9366-94c1b0295815",
   "metadata": {},
   "outputs": [],
   "source": [
    "# --- ЯЧЕЙКА 9: Функции инференса ---\n",
    "\n",
    "stride = models[0].model_strides[0]\n",
    "\n",
    "def reverse_complement_onehot(seq_onehot):\n",
    "    \"\"\"\n",
    "    seq_onehot: (L,4), порядок A=0, C=1, G=2, T=3\n",
    "    Возвращаем (L,4) реверс-комплементарно\n",
    "    \"\"\"\n",
    "    rev = np.flip(seq_onehot, axis=0)\n",
    "    revcomp = rev[:, [3,2,1,0]]\n",
    "    return revcomp\n",
    "\n",
    "def process_window(chrom, center_start, center_end, context_len, models):\n",
    "    \"\"\"\n",
    "    Подготавливаем вход (с контекстом), предсказываем + цепь,\n",
    "    затем − цепь (через reverse_complement_onehot).\n",
    "    Возвращаем (center_pred_plus, center_pred_minus) либо (None,None).\n",
    "    \"\"\"\n",
    "    input_start = max(0, center_start - context_len)\n",
    "    input_end   = min(chr_sizes[chrom], center_end + context_len)\n",
    "\n",
    "    seq_plus = process_sequence(fasta_index, chrom, input_start, input_end)\n",
    "    y_plus = predict_tracks(models, seq_plus)\n",
    "    y_plus = np.squeeze(y_plus)   # (L_out, C) ожидаем\n",
    "\n",
    "    seq_minus = reverse_complement_onehot(seq_plus)\n",
    "    y_minus = predict_tracks(models, seq_minus)\n",
    "    y_minus = np.squeeze(y_minus)\n",
    "\n",
    "    offset = center_start - input_start\n",
    "    offset_out = offset // stride\n",
    "\n",
    "    length_nt = center_end - center_start\n",
    "    length_out = length_nt // stride\n",
    "    if length_out <= 0:\n",
    "        return None, None\n",
    "\n",
    "    # Корректируем, чтобы не выходить за границы массива\n",
    "    if offset_out < 0:\n",
    "        offset_out = 0\n",
    "    if offset_out + length_out > y_plus.shape[0]:\n",
    "        length_out = y_plus.shape[0] - offset_out\n",
    "    if length_out <= 0:\n",
    "        return None, None\n",
    "    center_pred_plus = y_plus[offset_out : offset_out + length_out, :]\n",
    "\n",
    "    if offset_out + length_out > y_minus.shape[0]:\n",
    "        length_out = y_minus.shape[0] - offset_out\n",
    "    if length_out <= 0:\n",
    "        return None, None\n",
    "    center_pred_minus = y_minus[offset_out : offset_out + length_out, :]\n",
    "\n",
    "    return center_pred_plus, center_pred_minus\n",
    "\n",
    "def run_inference(all_windows, models):\n",
    "    \"\"\"\n",
    "    Для каждого окна → (center_pred_plus, center_pred_minus) → \n",
    "    записываем результаты (включая корректную привязку координат с учётом stride).\n",
    "    \"\"\"\n",
    "    start_time = time.time()\n",
    "    print(f\"Начинаем инференс по {len(all_windows)} окнам.\")\n",
    "\n",
    "    for (chrom, cstart, cend) in tqdm(all_windows, desc=\"Inference windows\"):\n",
    "        center_pred_plus, center_pred_minus = process_window(chrom, cstart, cend, context_len, models)\n",
    "        if center_pred_plus is None or center_pred_minus is None:\n",
    "            continue\n",
    "        \n",
    "        # Записываем\n",
    "        for bed_name, channel_ix in channels_dict.items():\n",
    "            # + цепь\n",
    "            if channel_ix < center_pred_plus.shape[1]:\n",
    "                vals_plus = center_pred_plus[:, channel_ix]\n",
    "                file_path_plus = os.path.join(output_dir, f\"borzoi_rnaseq_{folds_str}_st+_{bed_name}.bedGraph\")\n",
    "                \n",
    "                with open(file_path_plus, \"a\") as fp:\n",
    "                    for i, val in enumerate(vals_plus):\n",
    "                        # Учитываем stride, чтобы каждый токен соответствовал блоку из 'stride' нуклеотидов\n",
    "                        pos_start = cstart + i * stride\n",
    "                        pos_end   = pos_start + stride\n",
    "                        # Если уходим за пределы окна, обрезаем\n",
    "                        if pos_end > cend:\n",
    "                            pos_end = cend\n",
    "                        # Если интервал выродился, выходим\n",
    "                        if pos_end <= pos_start:\n",
    "                            break\n",
    "                        \n",
    "                        fp.write(f\"{chrom}\\t{pos_start}\\t{pos_end}\\t{float(val)}\\n\")\n",
    "\n",
    "            # - цепь\n",
    "            if channel_ix < center_pred_minus.shape[1]:\n",
    "                vals_minus = center_pred_minus[:, channel_ix]\n",
    "                file_path_minus = os.path.join(output_dir, f\"borzoi_rnaseq_{folds_str}_st-_{bed_name}.bedGraph\")\n",
    "                \n",
    "                with open(file_path_minus, \"a\") as fm:\n",
    "                    for i, val in enumerate(vals_minus):\n",
    "                        pos_start = cstart + i * stride\n",
    "                        pos_end   = pos_start + stride\n",
    "                        if pos_end > cend:\n",
    "                            pos_end = cend\n",
    "                        if pos_end <= pos_start:\n",
    "                            break\n",
    "                        \n",
    "                        fm.write(f\"{chrom}\\t{pos_start}\\t{pos_end}\\t{float(val)}\\n\")\n",
    "\n",
    "    elapsed = time.time() - start_time\n",
    "    print(f\"Инференс завершён за {elapsed:.2f} секунд.\")"
   ]
  },
  {
   "cell_type": "code",
   "execution_count": null,
   "id": "2f2112a1-8aa0-42b0-8144-2ff3e941cdab",
   "metadata": {},
   "outputs": [
    {
     "name": "stdout",
     "output_type": "stream",
     "text": [
      "Start inference...\n",
      "Начинаем инференс по 13776 окнам.\n"
     ]
    },
    {
     "name": "stderr",
     "output_type": "stream",
     "text": [
      "Inference windows:   5%|█████▊                                                                                                                    | 659/13776 [21:57<7:15:45,  1.99s/it]"
     ]
    }
   ],
   "source": [
    "# --- ЯЧЕЙКА 9: Запуск инференса ---\n",
    "\n",
    "print(\"Start inference...\")\n",
    "\n",
    "run_inference(all_windows, models)\n",
    "\n",
    "print(\"Done. 10 bedGraph files (5 тканей × 2 цепи) have been saved.\")\n"
   ]
  }
 ],
 "metadata": {
  "kernelspec": {
   "display_name": "Python 3 (ipykernel)",
   "language": "python",
   "name": "python3"
  },
  "language_info": {
   "codemirror_mode": {
    "name": "ipython",
    "version": 3
   },
   "file_extension": ".py",
   "mimetype": "text/x-python",
   "name": "python",
   "nbconvert_exporter": "python",
   "pygments_lexer": "ipython3",
   "version": "3.10.16"
  }
 },
 "nbformat": 4,
 "nbformat_minor": 5
}
